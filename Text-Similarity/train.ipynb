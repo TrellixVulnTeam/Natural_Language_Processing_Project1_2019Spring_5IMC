{
 "cells": [
  {
   "cell_type": "code",
   "execution_count": 1,
   "metadata": {},
   "outputs": [],
   "source": [
    "import torch\n",
    "import torch.optim as optim\n",
    "import torch.nn as nn\n",
    "from torch.utils.data import Dataset,DataLoader\n",
    "from torchvision import transforms, utils"
   ]
  },
  {
   "cell_type": "code",
   "execution_count": 2,
   "metadata": {},
   "outputs": [],
   "source": [
    "from torch.utils.data import Dataset,DataLoader\n",
    "from torchvision import transforms, utils\n",
    "\n",
    "import numpy as np\n",
    "import json\n",
    "import pandas as pd\n",
    "import torch\n",
    "import sys"
   ]
  },
  {
   "cell_type": "code",
   "execution_count": 4,
   "metadata": {},
   "outputs": [],
   "source": [
    "data = pd.read_csv('./data/all_no_embedding/train.csv')"
   ]
  },
  {
   "cell_type": "code",
   "execution_count": null,
   "metadata": {},
   "outputs": [],
   "source": [
    "class itemDataset(Dataset):\n",
    "    def __init__(self,file_name,mode='train',transform=None):\n",
    "        self.mode = mode\n",
    "        self.data = []\n",
    "        \n",
    "        temp = pd.read_csv(file_name)\n",
    "        if(mode=='test'):\n",
    "            for title1,titl2 in zip(temp['title1_zh'],temp['title2_zh']):\n",
    "                query,length = parsing([title1,title2])\n",
    "                self.data.append({\n",
    "                    'query'=query,\n",
    "                    'length'=length\n",
    "                })\n",
    "                \n",
    "        elif(mode=='train' || mode=='eval'):\n",
    "            for title1,titl2,label in zip(temp['title1_zh'],temp['title2_zh'],temp['label']):\n",
    "                query,length = parsing([title1,title2])\n",
    "                self.data.append({\n",
    "                    'query'=query,\n",
    "                    'length'=length,\n",
    "                    'label':label\n",
    "                })\n",
    "                \n",
    "                \n",
    "        self.transform = transform\n",
    "    def parsing(self,string):\n",
    "        \n",
    "        \n",
    "        return string,[]\n",
    "\n",
    "    def __len__(self):\n",
    "        return len(self.data)\n",
    "    def __getitem__(self, idx):\n",
    "        if(transforms):\n",
    "            sample = self.transform(self.data[idx])\n",
    "        return sample\n"
   ]
  },
  {
   "cell_type": "code",
   "execution_count": 2,
   "metadata": {},
   "outputs": [],
   "source": [
    "class Args:\n",
    "    def __init__(self):\n",
    "        pass\n",
    "args = Args()\n",
    "\n",
    "args.batch_size=512\n",
    "args.dropout=0\n",
    "args.epoch=200\n",
    "args.gpu=0\n",
    "args.word_dim=128\n",
    "args.hidden_dim=128\n",
    "args.num_layer=2\n",
    "args.learning_rate=0.005\n",
    "args.model=True\n",
    "args.print_freq=1\n",
    "args.save=True\n",
    "args.input_size=49527\n",
    "args.batch_first=True\n"
   ]
  },
  {
   "cell_type": "code",
   "execution_count": 3,
   "metadata": {},
   "outputs": [
    {
     "name": "stdout",
     "output_type": "stream",
     "text": [
      "check device\n",
      "the device is in cpu\n",
      "loading data\n"
     ]
    },
    {
     "ename": "NameError",
     "evalue": "name 'get_data' is not defined",
     "output_type": "error",
     "traceback": [
      "\u001b[1;31m---------------------------------------------------------------------------\u001b[0m",
      "\u001b[1;31mNameError\u001b[0m                                 Traceback (most recent call last)",
      "\u001b[1;32m<ipython-input-3-ee17563f51b2>\u001b[0m in \u001b[0;36m<module>\u001b[1;34m\u001b[0m\n\u001b[0;32m      8\u001b[0m \u001b[1;33m\u001b[0m\u001b[0m\n\u001b[0;32m      9\u001b[0m \u001b[0mprint\u001b[0m\u001b[1;33m(\u001b[0m\u001b[1;34m\"loading data\"\u001b[0m\u001b[1;33m)\u001b[0m\u001b[1;33m\u001b[0m\u001b[1;33m\u001b[0m\u001b[0m\n\u001b[1;32m---> 10\u001b[1;33m \u001b[0mdataloader\u001b[0m \u001b[1;33m=\u001b[0m \u001b[0mget_data\u001b[0m\u001b[1;33m(\u001b[0m\u001b[0margs\u001b[0m\u001b[1;33m.\u001b[0m\u001b[0mbatch_size\u001b[0m\u001b[1;33m)\u001b[0m\u001b[1;33m\u001b[0m\u001b[1;33m\u001b[0m\u001b[0m\n\u001b[0m\u001b[0;32m     11\u001b[0m \u001b[1;33m\u001b[0m\u001b[0m\n\u001b[0;32m     12\u001b[0m \u001b[0mprint\u001b[0m\u001b[1;33m(\u001b[0m\u001b[1;34m\"setting model\"\u001b[0m\u001b[1;33m)\u001b[0m\u001b[1;33m\u001b[0m\u001b[1;33m\u001b[0m\u001b[0m\n",
      "\u001b[1;31mNameError\u001b[0m: name 'get_data' is not defined"
     ]
    }
   ],
   "source": [
    "print(\"check device\")\n",
    "if(torch.cuda.is_available() and args.gpu>=0):\n",
    "    device = torch.device('cuda')\n",
    "    print('the device is in cuda')\n",
    "else:\n",
    "    device = torch.device('cpu')\n",
    "    print('the device is in cpu')\n",
    "\n",
    "print(\"loading data\")\n",
    "dataloader = get_data(args.batch_size)\n",
    "\n",
    "print(\"setting model\")\n",
    "model = model.to(device=device)\n",
    "\n",
    "print(model)\n",
    "optimizer = optim.Adam(model.parameters(),lr=args.learning_rate)\n",
    "criterion = nn.CrossEntropyLoss(reduction='sum')\n",
    "\n",
    "loss_best = 100000000\n",
    "print(\"start training\")\n",
    "model.zero_grad()"
   ]
  },
  {
   "cell_type": "code",
   "execution_count": null,
   "metadata": {},
   "outputs": [],
   "source": [
    "for now in range(args.epoch):\n",
    "    model.train()\n",
    "    train(model,dataloader['train'],criterion,args.step)\n",
    "    model.eval()\n",
    "    eval(model,dataloader['eval'],criterion,loss_best)"
   ]
  }
 ],
 "metadata": {
  "kernelspec": {
   "display_name": "Python 3",
   "language": "python",
   "name": "python3"
  },
  "language_info": {
   "codemirror_mode": {
    "name": "ipython",
    "version": 3
   },
   "file_extension": ".py",
   "mimetype": "text/x-python",
   "name": "python",
   "nbconvert_exporter": "python",
   "pygments_lexer": "ipython3",
   "version": "3.6.8"
  }
 },
 "nbformat": 4,
 "nbformat_minor": 2
}
