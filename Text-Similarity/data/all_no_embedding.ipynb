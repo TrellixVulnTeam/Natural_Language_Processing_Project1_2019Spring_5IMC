{
 "cells": [
  {
   "cell_type": "code",
   "execution_count": 1,
   "metadata": {},
   "outputs": [],
   "source": [
    "import pandas as pd\n",
    "import codecs\n",
    "import numpy as np\n",
    "np.random.seed(5)"
   ]
  },
  {
   "cell_type": "code",
   "execution_count": 2,
   "metadata": {},
   "outputs": [],
   "source": [
    "dictionary = {'<pad>':0,'<oov>':1}"
   ]
  },
  {
   "cell_type": "code",
   "execution_count": 3,
   "metadata": {},
   "outputs": [],
   "source": [
    "def check(w,train=True):\n",
    "    try:\n",
    "        return  dictionary[w]\n",
    "    except:\n",
    "        if(train):\n",
    "            dictionary[w] = len(dictionary)\n",
    "            return  dictionary[w] \n",
    "        else:\n",
    "            print(w)\n",
    "            return  1\n",
    "\n",
    "def part(sent):\n",
    "    w=''\n",
    "    for ch in sent:\n",
    "        if( ch in 'qazwsxedcrfvtgbyhnujmikolp'):\n",
    "            w += ch\n",
    "        else:\n",
    "            if(len(w)>0):\n",
    "                yield w\n",
    "                w =''\n",
    "            yield ch\n",
    "    if(len(w)>0):\n",
    "        yield w\n",
    "        \n",
    "def parsing(querys,train=True):\n",
    "    length = []\n",
    "    new_querys = []\n",
    "    if(type(querys[1])==float):\n",
    "        querys[1] = querys[0]\n",
    "    querys[1] = querys[1].lower()\n",
    "    querys[0] = querys[0].lower()\n",
    "    \n",
    "    for query in querys:\n",
    "        new_querys.append([])\n",
    "        for w in part( query):\n",
    "            new_querys[-1].append( check(w,train) )\n",
    "                    \n",
    "        length.append(len(new_querys[-1]))\n",
    "       \n",
    "    return new_querys,length"
   ]
  },
  {
   "cell_type": "code",
   "execution_count": 4,
   "metadata": {},
   "outputs": [],
   "source": [
    "datas = {'query':[],'length':[],'label':[]}\n",
    "temp = pd.read_csv('./train.csv')\n",
    "for title1,title2,label in zip(temp['title1_zh'],temp['title2_zh'],temp['label']):\n",
    "    query,length = parsing([title1,title2])\n",
    "    datas['query'].append(query)\n",
    "    datas['length'].append(length)\n",
    "    datas['label'].append(label)\n",
    "        "
   ]
  },
  {
   "cell_type": "code",
   "execution_count": 5,
   "metadata": {},
   "outputs": [],
   "source": [
    "arr = [0]*len(dictionary)\n",
    "for i,w in enumerate(dictionary):\n",
    "    arr[dictionary[w]] = w\n",
    "with open('./all_no_embedding/vocab','w') as f:\n",
    "    for w in arr:\n",
    "        f.write('{0}\\n'.format(w))"
   ]
  },
  {
   "cell_type": "code",
   "execution_count": null,
   "metadata": {},
   "outputs": [],
   "source": [
    "data = pd.DataFrame(datas)"
   ]
  },
  {
   "cell_type": "code",
   "execution_count": null,
   "metadata": {},
   "outputs": [
    {
     "data": {
      "text/html": [
       "<div>\n",
       "<style scoped>\n",
       "    .dataframe tbody tr th:only-of-type {\n",
       "        vertical-align: middle;\n",
       "    }\n",
       "\n",
       "    .dataframe tbody tr th {\n",
       "        vertical-align: top;\n",
       "    }\n",
       "\n",
       "    .dataframe thead th {\n",
       "        text-align: right;\n",
       "    }\n",
       "</style>\n",
       "<table border=\"1\" class=\"dataframe\">\n",
       "  <thead>\n",
       "    <tr style=\"text-align: right;\">\n",
       "      <th></th>\n",
       "      <th>query</th>\n",
       "      <th>length</th>\n",
       "      <th>label</th>\n",
       "    </tr>\n",
       "  </thead>\n",
       "  <tbody>\n",
       "    <tr>\n",
       "      <th>0</th>\n",
       "      <td>[[2, 3, 4, 5, 6, 7, 8, 9, 10, 11, 12, 13, 14, ...</td>\n",
       "      <td>[30, 24]</td>\n",
       "      <td>unrelated</td>\n",
       "    </tr>\n",
       "    <tr>\n",
       "      <th>1</th>\n",
       "      <td>[[46, 23, 47, 48, 49, 50, 16, 51, 52, 23, 53, ...</td>\n",
       "      <td>[31, 23]</td>\n",
       "      <td>unrelated</td>\n",
       "    </tr>\n",
       "  </tbody>\n",
       "</table>\n",
       "</div>"
      ],
      "text/plain": [
       "                                               query    length      label\n",
       "0  [[2, 3, 4, 5, 6, 7, 8, 9, 10, 11, 12, 13, 14, ...  [30, 24]  unrelated\n",
       "1  [[46, 23, 47, 48, 49, 50, 16, 51, 52, 23, 53, ...  [31, 23]  unrelated"
      ]
     },
     "execution_count": 6,
     "metadata": {},
     "output_type": "execute_result"
    }
   ],
   "source": [
    "data.head(2)"
   ]
  },
  {
   "cell_type": "code",
   "execution_count": null,
   "metadata": {},
   "outputs": [],
   "source": [
    "from sklearn.model_selection import train_test_split\n",
    "train, test = train_test_split(data, test_size=0.2, random_state=36)"
   ]
  },
  {
   "cell_type": "code",
   "execution_count": null,
   "metadata": {},
   "outputs": [],
   "source": [
    "train.reset_index().to_csv('./all_no_embedding/train.csv',index=False)\n",
    "test.reset_index().to_csv('./all_no_embedding/eval.csv',index=False)"
   ]
  },
  {
   "cell_type": "code",
   "execution_count": null,
   "metadata": {},
   "outputs": [],
   "source": [
    "len(dictionary)"
   ]
  },
  {
   "cell_type": "code",
   "execution_count": null,
   "metadata": {},
   "outputs": [],
   "source": [
    "datas = {'query':[],'length':[]}\n",
    "temp = pd.read_csv('./test.csv')\n",
    "for title1,title2 in zip(temp['title1_zh'],temp['title2_zh']):\n",
    "    query,length = parsing([title1,title2],train=False)\n",
    "    datas['query'].append(query)\n",
    "    datas['length'].append(length)\n",
    "        "
   ]
  },
  {
   "cell_type": "code",
   "execution_count": null,
   "metadata": {},
   "outputs": [],
   "source": [
    "data = pd.DataFrame(datas)\n",
    "data.to_csv('./all_no_embedding/test.csv',index=False)"
   ]
  },
  {
   "cell_type": "code",
   "execution_count": null,
   "metadata": {},
   "outputs": [],
   "source": [
    "train.head(1)"
   ]
  },
  {
   "cell_type": "code",
   "execution_count": null,
   "metadata": {},
   "outputs": [],
   "source": []
  }
 ],
 "metadata": {
  "kernelspec": {
   "display_name": "Python 3",
   "language": "python",
   "name": "python3"
  },
  "language_info": {
   "codemirror_mode": {
    "name": "ipython",
    "version": 3
   },
   "file_extension": ".py",
   "mimetype": "text/x-python",
   "name": "python",
   "nbconvert_exporter": "python",
   "pygments_lexer": "ipython3",
   "version": "3.6.8"
  }
 },
 "nbformat": 4,
 "nbformat_minor": 2
}
