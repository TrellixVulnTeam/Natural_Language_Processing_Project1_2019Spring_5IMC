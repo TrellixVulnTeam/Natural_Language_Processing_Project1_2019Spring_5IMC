{
 "cells": [
  {
   "cell_type": "code",
   "execution_count": 1,
   "metadata": {},
   "outputs": [],
   "source": [
    "import pandas as pd\n",
    "import jieba\n",
    "import codecs\n",
    "import numpy as np"
   ]
  },
  {
   "cell_type": "code",
   "execution_count": 2,
   "metadata": {},
   "outputs": [],
   "source": [
    "np.random.seed(5)"
   ]
  },
  {
   "cell_type": "code",
   "execution_count": 3,
   "metadata": {},
   "outputs": [],
   "source": [
    "dictionary = {'<pad>':0,'<oov>':1}"
   ]
  },
  {
   "cell_type": "code",
   "execution_count": 4,
   "metadata": {},
   "outputs": [],
   "source": [
    "def parsing(querys,train=True):\n",
    "    length = []\n",
    "    new_querys = []\n",
    "    if(type(querys[1])==float):\n",
    "        querys[1] = querys[0]\n",
    "    querys[1] = querys[1].lower()\n",
    "    querys[0] = querys[0].lower()\n",
    "    for query in querys:\n",
    "        new_querys.append([])\n",
    "        for w in jieba.cut(query, cut_all=True):\n",
    "            try:\n",
    "                new_querys[-1].append( dictionary[w] )\n",
    "            except:\n",
    "                if(train):\n",
    "                    dictionary[w] = len(dictionary)\n",
    "                    new_querys[-1].append( dictionary[w] )\n",
    "                else:\n",
    "                    print(w)\n",
    "                    new_querys[-1].append( 1 )\n",
    "                    \n",
    "        length.append(len(new_querys[-1]))\n",
    "       \n",
    "    return new_querys,length"
   ]
  },
  {
   "cell_type": "code",
   "execution_count": null,
   "metadata": {},
   "outputs": [
    {
     "name": "stderr",
     "output_type": "stream",
     "text": [
      "Building prefix dict from the default dictionary ...\n",
      "Loading model from cache C:\\Users\\erice\\AppData\\Local\\Temp\\jieba.cache\n",
      "Loading model cost 13.230 seconds.\n",
      "Prefix dict has been built succesfully.\n"
     ]
    }
   ],
   "source": [
    "datas = {'query':[],'length':[],'label':[]}\n",
    "temp = pd.read_csv('./train.csv')\n",
    "for title1,title2,label in zip(temp['title1_zh'],temp['title2_zh'],temp['label']):\n",
    "    query,length = parsing([title1,title2])\n",
    "    datas['query'].append(query)\n",
    "    datas['length'].append(length)\n",
    "    datas['label'].append(label)\n",
    "        "
   ]
  },
  {
   "cell_type": "code",
   "execution_count": null,
   "metadata": {},
   "outputs": [],
   "source": [
    "data = pd.DataFrame(datas)"
   ]
  },
  {
   "cell_type": "code",
   "execution_count": null,
   "metadata": {},
   "outputs": [],
   "source": [
    "from sklearn.model_selection import train_test_split\n",
    "train, test = train_test_split(data, test_size=0.2, random_state=36)"
   ]
  },
  {
   "cell_type": "code",
   "execution_count": null,
   "metadata": {},
   "outputs": [],
   "source": [
    "train.to_csv('./part_no_embedding/train.csv',index=False)\n",
    "test.to_csv('./part_no_embedding/eval.csv',index=False)"
   ]
  },
  {
   "cell_type": "code",
   "execution_count": null,
   "metadata": {},
   "outputs": [],
   "source": [
    "datas = {'query':[],'length':[]}\n",
    "temp = pd.read_csv('./test.csv')\n",
    "for title1,title2 in zip(temp['title1_zh'],temp['title2_zh']):\n",
    "    query,length = parsing([title1,title2],train=False)\n",
    "    datas['query'].append(query)\n",
    "    datas['length'].append(length)\n",
    "        "
   ]
  },
  {
   "cell_type": "code",
   "execution_count": null,
   "metadata": {},
   "outputs": [],
   "source": [
    "data = pd.DataFrame(datas)\n",
    "data.to_csv('./part_no_embedding/test.csv',index=False)"
   ]
  },
  {
   "cell_type": "code",
   "execution_count": null,
   "metadata": {},
   "outputs": [],
   "source": []
  }
 ],
 "metadata": {
  "kernelspec": {
   "display_name": "Python 3",
   "language": "python",
   "name": "python3"
  },
  "language_info": {
   "codemirror_mode": {
    "name": "ipython",
    "version": 3
   },
   "file_extension": ".py",
   "mimetype": "text/x-python",
   "name": "python",
   "nbconvert_exporter": "python",
   "pygments_lexer": "ipython3",
   "version": "3.6.8"
  }
 },
 "nbformat": 4,
 "nbformat_minor": 2
}
