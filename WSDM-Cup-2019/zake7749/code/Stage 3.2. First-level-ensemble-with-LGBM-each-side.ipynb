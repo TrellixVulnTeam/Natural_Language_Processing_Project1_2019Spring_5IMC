{
 "cells": [
  {
   "cell_type": "markdown",
   "metadata": {},
   "source": [
    "# Phase 3 Weighted Bagging"
   ]
  },
  {
   "cell_type": "code",
   "execution_count": 1,
   "metadata": {},
   "outputs": [
    {
     "name": "stderr",
     "output_type": "stream",
     "text": [
      "C:\\Users\\zake7\\Anaconda3\\lib\\site-packages\\gensim\\utils.py:1197: UserWarning: detected Windows; aliasing chunkize to chunkize_serial\n",
      "  warnings.warn(\"detected Windows; aliasing chunkize to chunkize_serial\")\n",
      "Using TensorFlow backend.\n",
      "C:\\Users\\zake7\\Anaconda3\\lib\\site-packages\\fuzzywuzzy\\fuzz.py:35: UserWarning: Using slow pure-python SequenceMatcher. Install python-Levenshtein to remove this warning\n",
      "  warnings.warn('Using slow pure-python SequenceMatcher. Install python-Levenshtein to remove this warning')\n"
     ]
    }
   ],
   "source": [
    "import pandas as pd\n",
    "import matplotlib.pyplot as plt\n",
    "\n",
    "from os import listdir\n",
    "from os.path import isfile, join\n",
    "\n",
    "import os\n",
    "import re\n",
    "import csv\n",
    "import codecs\n",
    "import gensim\n",
    "import itertools\n",
    "import numpy as np\n",
    "import pandas as pd\n",
    "import operator\n",
    "import sys\n",
    "\n",
    "from nltk import ngrams\n",
    "from collections import Counter\n",
    "from string import punctuation\n",
    "from keras.preprocessing.text import Tokenizer\n",
    "from keras.preprocessing.sequence import pad_sequences\n",
    "\n",
    "from iwillwin.trainer.supervised_trainer import KerasModelTrainer\n",
    "from iwillwin.data_utils.data_helpers import DataTransformer, DataLoader\n",
    "from iwillwin.config import dataset_config\n",
    "from iwillwin.data_utils.feature_engineering import FeatureCreator\n",
    "\n",
    "from fuzzywuzzy import fuzz\n",
    "from nltk.corpus import stopwords\n",
    "from tqdm import tqdm\n",
    "from scipy.stats import skew, kurtosis\n",
    "from scipy.spatial.distance import cosine, cityblock, jaccard, canberra, euclidean, minkowski, braycurtis\n",
    "from nltk import word_tokenize\n",
    "\n",
    "import seaborn as sns\n",
    "%matplotlib inline\n",
    "\n",
    "import lightgbm as lgb\n",
    "from sklearn.model_selection import train_test_split\n",
    "import matplotlib.pyplot as plt\n",
    "from sklearn.model_selection import KFold\n",
    "\n",
    "import os\n",
    "import re\n",
    "import csv\n",
    "import codecs\n",
    "import numpy as np\n",
    "import pandas as pd\n",
    "import operator\n",
    "from os import listdir\n",
    "from os.path import isfile, join\n",
    "\n",
    "########################################\n",
    "## import packages\n",
    "########################################\n",
    "import os\n",
    "import re\n",
    "import csv\n",
    "import codecs\n",
    "import numpy as np\n",
    "np.random.seed(1337)\n",
    "\n",
    "import pandas as pd\n",
    "import operator\n",
    "import sys\n",
    "\n",
    "from string import punctuation\n",
    "from keras.preprocessing.text import Tokenizer\n",
    "from keras.preprocessing.sequence import pad_sequences\n",
    "\n",
    "from iwillwin.trainer.supervised_trainer import KerasModelTrainer\n",
    "from iwillwin.data_utils.data_helpers import DataTransformer, DataLoader\n",
    "from iwillwin.config import dataset_config\n",
    "from keras.utils import to_categorical"
   ]
  },
  {
   "cell_type": "code",
   "execution_count": 2,
   "metadata": {},
   "outputs": [
    {
     "name": "stderr",
     "output_type": "stream",
     "text": [
      "Building prefix dict from the default dictionary ...\n",
      "Loading model from cache C:\\Users\\zake7\\AppData\\Local\\Temp\\jieba.cache\n",
      "Loading model cost 0.466 seconds.\n",
      "Prefix dict has been built succesfully.\n"
     ]
    },
    {
     "name": "stdout",
     "output_type": "stream",
     "text": [
      "[DataHelper] Apply normalization on value-type columns\n"
     ]
    },
    {
     "name": "stderr",
     "output_type": "stream",
     "text": [
      "C:\\Users\\zake7\\Anaconda3\\lib\\site-packages\\sklearn\\utils\\validation.py:475: DataConversionWarning: Data with input dtype int64 was converted to float64 by MinMaxScaler.\n",
      "  warnings.warn(msg, DataConversionWarning)\n"
     ]
    },
    {
     "name": "stdout",
     "output_type": "stream",
     "text": [
      "Doing preprocessing...\n",
      "Transforming words to indices...\n",
      "Shape of data tensor: (320552, 50) (320552, 50)\n",
      "Shape of label tensor: (320552,)\n",
      "Preprocessed.\n",
      "Number of unique words 83265\n"
     ]
    }
   ],
   "source": [
    "NB_WORDS, MAX_SEQUENCE_LENGTH = 50000, 50\n",
    "data_transformer = DataTransformer(max_num_words=NB_WORDS, max_sequence_length=MAX_SEQUENCE_LENGTH, char_level=False,\n",
    "                                   normalization=True, features_processed=True)\n",
    "trains_nns, tests_nns, labels = data_transformer.prepare_data(dual=False)\n",
    "print(\"Number of unique words\", len(data_transformer.tokenizer.index_docs))"
   ]
  },
  {
   "cell_type": "code",
   "execution_count": 3,
   "metadata": {
    "collapsed": true
   },
   "outputs": [],
   "source": [
    "trains_meta = trains_nns[2]\n",
    "tests_meta = tests_nns[2]"
   ]
  },
  {
   "cell_type": "code",
   "execution_count": 4,
   "metadata": {
    "collapsed": true
   },
   "outputs": [],
   "source": [
    "train_df = pd.read_csv('../data/dataset/train.csv')\n",
    "test_df = pd.read_csv('../data/dataset/test.csv')"
   ]
  },
  {
   "cell_type": "code",
   "execution_count": 5,
   "metadata": {},
   "outputs": [
    {
     "name": "stdout",
     "output_type": "stream",
     "text": [
      "nan <class 'float'>\n",
      "nan <class 'float'>\n",
      "nan <class 'float'>\n",
      "nan <class 'float'>\n",
      "nan <class 'float'>\n",
      "nan <class 'float'>\n",
      "nan <class 'float'>\n",
      "nan <class 'float'>\n"
     ]
    }
   ],
   "source": [
    "rumor_words = ['辟谣', '谣言', '勿传', '假的']\n",
    "\n",
    "def is_rumor(text):\n",
    "    if type(text) != str:\n",
    "        print(text, type(text))\n",
    "        return 0\n",
    "    for rumor_word in rumor_words:\n",
    "        if rumor_word in text:\n",
    "            return 1\n",
    "    return 0\n",
    "\n",
    "def has_split_symbol(text):\n",
    "    if type(text) != str:\n",
    "        return 0\n",
    "    if '|' in text:\n",
    "        return 1\n",
    "    return 0\n",
    "\n",
    "for df in [train_df, test_df]:\n",
    "    df['has_|'] = df['title2_zh'].apply(has_split_symbol)\n",
    "    df['has_rumor_words'] = df['title2_zh'].apply(is_rumor)"
   ]
  },
  {
   "cell_type": "code",
   "execution_count": 6,
   "metadata": {
    "collapsed": true
   },
   "outputs": [],
   "source": [
    "train_has_rumor = train_df.has_rumor_words.values\n",
    "test_has_rumor = test_df.has_rumor_words.values\n",
    "\n",
    "trick_trains_features = np.concatenate((trains_nns[2], train_has_rumor.reshape((-1, 1))), axis=1)\n",
    "trick_tests_features = np.concatenate((tests_nns[2], test_has_rumor.reshape((-1, 1))), axis=1)"
   ]
  },
  {
   "cell_type": "code",
   "execution_count": 7,
   "metadata": {
    "collapsed": true
   },
   "outputs": [],
   "source": [
    "oof_file_names = sorted([f for f in listdir('../data/oofs/') if isfile(join('../data/oofs/', f)) and f != '.gitkeep'])\n",
    "preds_file_names = [name.replace('-Train', '') for name in oof_file_names]\n",
    "\n",
    "oofs = []\n",
    "preds = []\n",
    "for name in oof_file_names:\n",
    "    oofs.append(pd.read_csv('../data/oofs/' + name))\n",
    "for name in preds_file_names:\n",
    "    preds.append(pd.read_csv('../data/output/' + name))    "
   ]
  },
  {
   "cell_type": "code",
   "execution_count": 8,
   "metadata": {},
   "outputs": [
    {
     "name": "stdout",
     "output_type": "stream",
     "text": [
      "0 3Embedding-3LayersDenseCNN42-NoDrop-NoClassWeighted-NoEM-Train-L0.809633-NB5000.csv\n",
      "1 3Embedding-3LayersDenseRNN42-Drop01-NoMeta-NoClassWeighted-WithEM-Train-L0.816583-NB5000.csv\n",
      "2 3Embedding-ESIM-Drop01-NoMeta-NoClassWeighted-NoEM-Train-L0.833565-NB5000.csv\n",
      "3 WordSGNS-DenseCNN5Layers-NoMeta-3P-NoEM-NoClassWeighted-3Layers-Train-L0.838202-NB100000.csv\n",
      "4 WordSGNS-ESIM-NoMeta-3P-NoEM-NoClassWeighted-3Layers-Train-L1.104962-NB100000.csv\n",
      "5 WordTC-DenseCNN5Layers-NoMeta-3P-NoEM-NoClassWeighted-3Layers-Train-L0.8440-NB100000.csv\n",
      "6 WordTC-DenseRNN-NoMeta-3P-NoEM-NoClassWeighted-3Layers-Train-L0.854586-NB100000.csv\n",
      "7 WordTC-ESIM-NoMeta-3P-NoEM-NoClassWeighted-3Layers-Train-L0.374334-NB100000.csv\n",
      "8 WordTC-Gated4GWindows-NoMeta-3P-NoEM-NoClassWeighted-3Layers-withEM-Train-L0.836860-NB100000.csv\n"
     ]
    }
   ],
   "source": [
    "for i, name in enumerate(oof_file_names):\n",
    "    print(i, name)\n",
    "    \n",
    "trains = pd.DataFrame()\n",
    "tests = pd.DataFrame()\n",
    "\n",
    "for i in range(len(oof_file_names)):\n",
    "    for label_type in ['agreed', 'disagreed', 'unrelated']:\n",
    "        trains['oofs_{}_{}'.format(i, label_type)] = oofs[i][label_type].values\n",
    "        tests['oofs_pred{}_{}'.format(i, label_type)] = preds[i][label_type].values"
   ]
  },
  {
   "cell_type": "code",
   "execution_count": 14,
   "metadata": {},
   "outputs": [
    {
     "data": {
      "text/plain": [
       "['3Embedding-3LayersDenseCNN42-NoDrop-NoClassWeighted-NoEM-Train-L0.809633-NB5000.csv',\n",
       " '3Embedding-3LayersDenseRNN42-Drop01-NoMeta-NoClassWeighted-WithEM-Train-L0.816583-NB5000.csv',\n",
       " '3Embedding-ESIM-Drop01-NoMeta-NoClassWeighted-NoEM-Train-L0.833565-NB5000.csv',\n",
       " 'WordSGNS-DenseCNN5Layers-NoMeta-3P-NoEM-NoClassWeighted-3Layers-Train-L0.838202-NB100000.csv',\n",
       " 'WordSGNS-ESIM-NoMeta-3P-NoEM-NoClassWeighted-3Layers-Train-L1.104962-NB100000.csv',\n",
       " 'WordTC-DenseCNN5Layers-NoMeta-3P-NoEM-NoClassWeighted-3Layers-Train-L0.8440-NB100000.csv',\n",
       " 'WordTC-DenseRNN-NoMeta-3P-NoEM-NoClassWeighted-3Layers-Train-L0.854586-NB100000.csv',\n",
       " 'WordTC-ESIM-NoMeta-3P-NoEM-NoClassWeighted-3Layers-Train-L0.374334-NB100000.csv',\n",
       " 'WordTC-Gated4GWindows-NoMeta-3P-NoEM-NoClassWeighted-3Layers-withEM-Train-L0.836860-NB100000.csv']"
      ]
     },
     "execution_count": 14,
     "metadata": {},
     "output_type": "execute_result"
    }
   ],
   "source": [
    "oof_file_names"
   ]
  },
  {
   "cell_type": "code",
   "execution_count": 10,
   "metadata": {
    "collapsed": true
   },
   "outputs": [],
   "source": [
    "unrelated = pd.DataFrame()\n",
    "agreeds = pd.DataFrame()\n",
    "disagreeds = pd.DataFrame()\n",
    "\n",
    "#check_oofs = True\n",
    "check_oofs = False\n",
    "\n",
    "\n",
    "if check_oofs:\n",
    "    for i, oof in enumerate(oofs):\n",
    "        agreeds['oofs_agreed_{}'.format(i)] = oofs[i]['agreed'].values\n",
    "        unrelated['oofs_unrelated_{}'.format(i)] = oofs[i]['unrelated'].values\n",
    "        disagreeds['oofs_disagreeds_{}'.format(i)] = oofs[i]['disagreed'].values\n",
    "else:\n",
    "    for i, oof in enumerate(oofs):\n",
    "        agreeds['oofs_agreed_{}'.format(i)] = preds[i]['agreed'].values\n",
    "        unrelated['oofs_unrelated_{}'.format(i)] = preds[i]['unrelated'].values\n",
    "        disagreeds['oofs_disagreeds_{}'.format(i)] = preds[i]['disagreed'].values  "
   ]
  },
  {
   "cell_type": "code",
   "execution_count": 11,
   "metadata": {},
   "outputs": [
    {
     "data": {
      "text/html": [
       "<div>\n",
       "<style>\n",
       "    .dataframe thead tr:only-child th {\n",
       "        text-align: right;\n",
       "    }\n",
       "\n",
       "    .dataframe thead th {\n",
       "        text-align: left;\n",
       "    }\n",
       "\n",
       "    .dataframe tbody tr th {\n",
       "        vertical-align: top;\n",
       "    }\n",
       "</style>\n",
       "<table border=\"1\" class=\"dataframe\">\n",
       "  <thead>\n",
       "    <tr style=\"text-align: right;\">\n",
       "      <th></th>\n",
       "      <th>oofs_agreed_0</th>\n",
       "      <th>oofs_agreed_1</th>\n",
       "      <th>oofs_agreed_2</th>\n",
       "      <th>oofs_agreed_3</th>\n",
       "      <th>oofs_agreed_4</th>\n",
       "      <th>oofs_agreed_5</th>\n",
       "      <th>oofs_agreed_6</th>\n",
       "      <th>oofs_agreed_7</th>\n",
       "      <th>oofs_agreed_8</th>\n",
       "    </tr>\n",
       "  </thead>\n",
       "  <tbody>\n",
       "    <tr>\n",
       "      <th>oofs_agreed_0</th>\n",
       "      <td>1.000000</td>\n",
       "      <td>0.982310</td>\n",
       "      <td>0.976632</td>\n",
       "      <td>0.959797</td>\n",
       "      <td>0.956807</td>\n",
       "      <td>0.961449</td>\n",
       "      <td>0.961597</td>\n",
       "      <td>0.959404</td>\n",
       "      <td>0.962629</td>\n",
       "    </tr>\n",
       "    <tr>\n",
       "      <th>oofs_agreed_1</th>\n",
       "      <td>0.982310</td>\n",
       "      <td>1.000000</td>\n",
       "      <td>0.982479</td>\n",
       "      <td>0.958966</td>\n",
       "      <td>0.957473</td>\n",
       "      <td>0.961494</td>\n",
       "      <td>0.961780</td>\n",
       "      <td>0.961639</td>\n",
       "      <td>0.961288</td>\n",
       "    </tr>\n",
       "    <tr>\n",
       "      <th>oofs_agreed_2</th>\n",
       "      <td>0.976632</td>\n",
       "      <td>0.982479</td>\n",
       "      <td>1.000000</td>\n",
       "      <td>0.955476</td>\n",
       "      <td>0.959167</td>\n",
       "      <td>0.957512</td>\n",
       "      <td>0.961050</td>\n",
       "      <td>0.963775</td>\n",
       "      <td>0.956841</td>\n",
       "    </tr>\n",
       "    <tr>\n",
       "      <th>oofs_agreed_3</th>\n",
       "      <td>0.959797</td>\n",
       "      <td>0.958966</td>\n",
       "      <td>0.955476</td>\n",
       "      <td>1.000000</td>\n",
       "      <td>0.982100</td>\n",
       "      <td>0.977313</td>\n",
       "      <td>0.970090</td>\n",
       "      <td>0.972992</td>\n",
       "      <td>0.973543</td>\n",
       "    </tr>\n",
       "    <tr>\n",
       "      <th>oofs_agreed_4</th>\n",
       "      <td>0.956807</td>\n",
       "      <td>0.957473</td>\n",
       "      <td>0.959167</td>\n",
       "      <td>0.982100</td>\n",
       "      <td>1.000000</td>\n",
       "      <td>0.971693</td>\n",
       "      <td>0.972289</td>\n",
       "      <td>0.979278</td>\n",
       "      <td>0.968705</td>\n",
       "    </tr>\n",
       "    <tr>\n",
       "      <th>oofs_agreed_5</th>\n",
       "      <td>0.961449</td>\n",
       "      <td>0.961494</td>\n",
       "      <td>0.957512</td>\n",
       "      <td>0.977313</td>\n",
       "      <td>0.971693</td>\n",
       "      <td>1.000000</td>\n",
       "      <td>0.981701</td>\n",
       "      <td>0.981716</td>\n",
       "      <td>0.982047</td>\n",
       "    </tr>\n",
       "    <tr>\n",
       "      <th>oofs_agreed_6</th>\n",
       "      <td>0.961597</td>\n",
       "      <td>0.961780</td>\n",
       "      <td>0.961050</td>\n",
       "      <td>0.970090</td>\n",
       "      <td>0.972289</td>\n",
       "      <td>0.981701</td>\n",
       "      <td>1.000000</td>\n",
       "      <td>0.983917</td>\n",
       "      <td>0.982819</td>\n",
       "    </tr>\n",
       "    <tr>\n",
       "      <th>oofs_agreed_7</th>\n",
       "      <td>0.959404</td>\n",
       "      <td>0.961639</td>\n",
       "      <td>0.963775</td>\n",
       "      <td>0.972992</td>\n",
       "      <td>0.979278</td>\n",
       "      <td>0.981716</td>\n",
       "      <td>0.983917</td>\n",
       "      <td>1.000000</td>\n",
       "      <td>0.978351</td>\n",
       "    </tr>\n",
       "    <tr>\n",
       "      <th>oofs_agreed_8</th>\n",
       "      <td>0.962629</td>\n",
       "      <td>0.961288</td>\n",
       "      <td>0.956841</td>\n",
       "      <td>0.973543</td>\n",
       "      <td>0.968705</td>\n",
       "      <td>0.982047</td>\n",
       "      <td>0.982819</td>\n",
       "      <td>0.978351</td>\n",
       "      <td>1.000000</td>\n",
       "    </tr>\n",
       "  </tbody>\n",
       "</table>\n",
       "</div>"
      ],
      "text/plain": [
       "               oofs_agreed_0  oofs_agreed_1  oofs_agreed_2  oofs_agreed_3  \\\n",
       "oofs_agreed_0       1.000000       0.982310       0.976632       0.959797   \n",
       "oofs_agreed_1       0.982310       1.000000       0.982479       0.958966   \n",
       "oofs_agreed_2       0.976632       0.982479       1.000000       0.955476   \n",
       "oofs_agreed_3       0.959797       0.958966       0.955476       1.000000   \n",
       "oofs_agreed_4       0.956807       0.957473       0.959167       0.982100   \n",
       "oofs_agreed_5       0.961449       0.961494       0.957512       0.977313   \n",
       "oofs_agreed_6       0.961597       0.961780       0.961050       0.970090   \n",
       "oofs_agreed_7       0.959404       0.961639       0.963775       0.972992   \n",
       "oofs_agreed_8       0.962629       0.961288       0.956841       0.973543   \n",
       "\n",
       "               oofs_agreed_4  oofs_agreed_5  oofs_agreed_6  oofs_agreed_7  \\\n",
       "oofs_agreed_0       0.956807       0.961449       0.961597       0.959404   \n",
       "oofs_agreed_1       0.957473       0.961494       0.961780       0.961639   \n",
       "oofs_agreed_2       0.959167       0.957512       0.961050       0.963775   \n",
       "oofs_agreed_3       0.982100       0.977313       0.970090       0.972992   \n",
       "oofs_agreed_4       1.000000       0.971693       0.972289       0.979278   \n",
       "oofs_agreed_5       0.971693       1.000000       0.981701       0.981716   \n",
       "oofs_agreed_6       0.972289       0.981701       1.000000       0.983917   \n",
       "oofs_agreed_7       0.979278       0.981716       0.983917       1.000000   \n",
       "oofs_agreed_8       0.968705       0.982047       0.982819       0.978351   \n",
       "\n",
       "               oofs_agreed_8  \n",
       "oofs_agreed_0       0.962629  \n",
       "oofs_agreed_1       0.961288  \n",
       "oofs_agreed_2       0.956841  \n",
       "oofs_agreed_3       0.973543  \n",
       "oofs_agreed_4       0.968705  \n",
       "oofs_agreed_5       0.982047  \n",
       "oofs_agreed_6       0.982819  \n",
       "oofs_agreed_7       0.978351  \n",
       "oofs_agreed_8       1.000000  "
      ]
     },
     "execution_count": 11,
     "metadata": {},
     "output_type": "execute_result"
    }
   ],
   "source": [
    "agreeds.corr()"
   ]
  },
  {
   "cell_type": "code",
   "execution_count": 12,
   "metadata": {},
   "outputs": [
    {
     "data": {
      "text/html": [
       "<div>\n",
       "<style>\n",
       "    .dataframe thead tr:only-child th {\n",
       "        text-align: right;\n",
       "    }\n",
       "\n",
       "    .dataframe thead th {\n",
       "        text-align: left;\n",
       "    }\n",
       "\n",
       "    .dataframe tbody tr th {\n",
       "        vertical-align: top;\n",
       "    }\n",
       "</style>\n",
       "<table border=\"1\" class=\"dataframe\">\n",
       "  <thead>\n",
       "    <tr style=\"text-align: right;\">\n",
       "      <th></th>\n",
       "      <th>oofs_disagreeds_0</th>\n",
       "      <th>oofs_disagreeds_1</th>\n",
       "      <th>oofs_disagreeds_2</th>\n",
       "      <th>oofs_disagreeds_3</th>\n",
       "      <th>oofs_disagreeds_4</th>\n",
       "      <th>oofs_disagreeds_5</th>\n",
       "      <th>oofs_disagreeds_6</th>\n",
       "      <th>oofs_disagreeds_7</th>\n",
       "      <th>oofs_disagreeds_8</th>\n",
       "    </tr>\n",
       "  </thead>\n",
       "  <tbody>\n",
       "    <tr>\n",
       "      <th>oofs_disagreeds_0</th>\n",
       "      <td>1.000000</td>\n",
       "      <td>0.954897</td>\n",
       "      <td>0.951416</td>\n",
       "      <td>0.912412</td>\n",
       "      <td>0.913741</td>\n",
       "      <td>0.912573</td>\n",
       "      <td>0.916230</td>\n",
       "      <td>0.912694</td>\n",
       "      <td>0.908535</td>\n",
       "    </tr>\n",
       "    <tr>\n",
       "      <th>oofs_disagreeds_1</th>\n",
       "      <td>0.954897</td>\n",
       "      <td>1.000000</td>\n",
       "      <td>0.964977</td>\n",
       "      <td>0.920113</td>\n",
       "      <td>0.918646</td>\n",
       "      <td>0.920680</td>\n",
       "      <td>0.921862</td>\n",
       "      <td>0.920311</td>\n",
       "      <td>0.911443</td>\n",
       "    </tr>\n",
       "    <tr>\n",
       "      <th>oofs_disagreeds_2</th>\n",
       "      <td>0.951416</td>\n",
       "      <td>0.964977</td>\n",
       "      <td>1.000000</td>\n",
       "      <td>0.919030</td>\n",
       "      <td>0.925045</td>\n",
       "      <td>0.915579</td>\n",
       "      <td>0.923305</td>\n",
       "      <td>0.926555</td>\n",
       "      <td>0.913171</td>\n",
       "    </tr>\n",
       "    <tr>\n",
       "      <th>oofs_disagreeds_3</th>\n",
       "      <td>0.912412</td>\n",
       "      <td>0.920113</td>\n",
       "      <td>0.919030</td>\n",
       "      <td>1.000000</td>\n",
       "      <td>0.967334</td>\n",
       "      <td>0.956456</td>\n",
       "      <td>0.945988</td>\n",
       "      <td>0.954167</td>\n",
       "      <td>0.943892</td>\n",
       "    </tr>\n",
       "    <tr>\n",
       "      <th>oofs_disagreeds_4</th>\n",
       "      <td>0.913741</td>\n",
       "      <td>0.918646</td>\n",
       "      <td>0.925045</td>\n",
       "      <td>0.967334</td>\n",
       "      <td>1.000000</td>\n",
       "      <td>0.946770</td>\n",
       "      <td>0.944932</td>\n",
       "      <td>0.961943</td>\n",
       "      <td>0.939010</td>\n",
       "    </tr>\n",
       "    <tr>\n",
       "      <th>oofs_disagreeds_5</th>\n",
       "      <td>0.912573</td>\n",
       "      <td>0.920680</td>\n",
       "      <td>0.915579</td>\n",
       "      <td>0.956456</td>\n",
       "      <td>0.946770</td>\n",
       "      <td>1.000000</td>\n",
       "      <td>0.965450</td>\n",
       "      <td>0.960278</td>\n",
       "      <td>0.955281</td>\n",
       "    </tr>\n",
       "    <tr>\n",
       "      <th>oofs_disagreeds_6</th>\n",
       "      <td>0.916230</td>\n",
       "      <td>0.921862</td>\n",
       "      <td>0.923305</td>\n",
       "      <td>0.945988</td>\n",
       "      <td>0.944932</td>\n",
       "      <td>0.965450</td>\n",
       "      <td>1.000000</td>\n",
       "      <td>0.963620</td>\n",
       "      <td>0.958197</td>\n",
       "    </tr>\n",
       "    <tr>\n",
       "      <th>oofs_disagreeds_7</th>\n",
       "      <td>0.912694</td>\n",
       "      <td>0.920311</td>\n",
       "      <td>0.926555</td>\n",
       "      <td>0.954167</td>\n",
       "      <td>0.961943</td>\n",
       "      <td>0.960278</td>\n",
       "      <td>0.963620</td>\n",
       "      <td>1.000000</td>\n",
       "      <td>0.954127</td>\n",
       "    </tr>\n",
       "    <tr>\n",
       "      <th>oofs_disagreeds_8</th>\n",
       "      <td>0.908535</td>\n",
       "      <td>0.911443</td>\n",
       "      <td>0.913171</td>\n",
       "      <td>0.943892</td>\n",
       "      <td>0.939010</td>\n",
       "      <td>0.955281</td>\n",
       "      <td>0.958197</td>\n",
       "      <td>0.954127</td>\n",
       "      <td>1.000000</td>\n",
       "    </tr>\n",
       "  </tbody>\n",
       "</table>\n",
       "</div>"
      ],
      "text/plain": [
       "                   oofs_disagreeds_0  oofs_disagreeds_1  oofs_disagreeds_2  \\\n",
       "oofs_disagreeds_0           1.000000           0.954897           0.951416   \n",
       "oofs_disagreeds_1           0.954897           1.000000           0.964977   \n",
       "oofs_disagreeds_2           0.951416           0.964977           1.000000   \n",
       "oofs_disagreeds_3           0.912412           0.920113           0.919030   \n",
       "oofs_disagreeds_4           0.913741           0.918646           0.925045   \n",
       "oofs_disagreeds_5           0.912573           0.920680           0.915579   \n",
       "oofs_disagreeds_6           0.916230           0.921862           0.923305   \n",
       "oofs_disagreeds_7           0.912694           0.920311           0.926555   \n",
       "oofs_disagreeds_8           0.908535           0.911443           0.913171   \n",
       "\n",
       "                   oofs_disagreeds_3  oofs_disagreeds_4  oofs_disagreeds_5  \\\n",
       "oofs_disagreeds_0           0.912412           0.913741           0.912573   \n",
       "oofs_disagreeds_1           0.920113           0.918646           0.920680   \n",
       "oofs_disagreeds_2           0.919030           0.925045           0.915579   \n",
       "oofs_disagreeds_3           1.000000           0.967334           0.956456   \n",
       "oofs_disagreeds_4           0.967334           1.000000           0.946770   \n",
       "oofs_disagreeds_5           0.956456           0.946770           1.000000   \n",
       "oofs_disagreeds_6           0.945988           0.944932           0.965450   \n",
       "oofs_disagreeds_7           0.954167           0.961943           0.960278   \n",
       "oofs_disagreeds_8           0.943892           0.939010           0.955281   \n",
       "\n",
       "                   oofs_disagreeds_6  oofs_disagreeds_7  oofs_disagreeds_8  \n",
       "oofs_disagreeds_0           0.916230           0.912694           0.908535  \n",
       "oofs_disagreeds_1           0.921862           0.920311           0.911443  \n",
       "oofs_disagreeds_2           0.923305           0.926555           0.913171  \n",
       "oofs_disagreeds_3           0.945988           0.954167           0.943892  \n",
       "oofs_disagreeds_4           0.944932           0.961943           0.939010  \n",
       "oofs_disagreeds_5           0.965450           0.960278           0.955281  \n",
       "oofs_disagreeds_6           1.000000           0.963620           0.958197  \n",
       "oofs_disagreeds_7           0.963620           1.000000           0.954127  \n",
       "oofs_disagreeds_8           0.958197           0.954127           1.000000  "
      ]
     },
     "execution_count": 12,
     "metadata": {},
     "output_type": "execute_result"
    }
   ],
   "source": [
    "disagreeds.corr()"
   ]
  },
  {
   "cell_type": "code",
   "execution_count": 13,
   "metadata": {},
   "outputs": [
    {
     "data": {
      "text/html": [
       "<div>\n",
       "<style>\n",
       "    .dataframe thead tr:only-child th {\n",
       "        text-align: right;\n",
       "    }\n",
       "\n",
       "    .dataframe thead th {\n",
       "        text-align: left;\n",
       "    }\n",
       "\n",
       "    .dataframe tbody tr th {\n",
       "        vertical-align: top;\n",
       "    }\n",
       "</style>\n",
       "<table border=\"1\" class=\"dataframe\">\n",
       "  <thead>\n",
       "    <tr style=\"text-align: right;\">\n",
       "      <th></th>\n",
       "      <th>oofs_unrelated_0</th>\n",
       "      <th>oofs_unrelated_1</th>\n",
       "      <th>oofs_unrelated_2</th>\n",
       "      <th>oofs_unrelated_3</th>\n",
       "      <th>oofs_unrelated_4</th>\n",
       "      <th>oofs_unrelated_5</th>\n",
       "      <th>oofs_unrelated_6</th>\n",
       "      <th>oofs_unrelated_7</th>\n",
       "      <th>oofs_unrelated_8</th>\n",
       "    </tr>\n",
       "  </thead>\n",
       "  <tbody>\n",
       "    <tr>\n",
       "      <th>oofs_unrelated_0</th>\n",
       "      <td>1.000000</td>\n",
       "      <td>0.978855</td>\n",
       "      <td>0.972572</td>\n",
       "      <td>0.952930</td>\n",
       "      <td>0.949506</td>\n",
       "      <td>0.954771</td>\n",
       "      <td>0.955016</td>\n",
       "      <td>0.952586</td>\n",
       "      <td>0.955786</td>\n",
       "    </tr>\n",
       "    <tr>\n",
       "      <th>oofs_unrelated_1</th>\n",
       "      <td>0.978855</td>\n",
       "      <td>1.000000</td>\n",
       "      <td>0.979417</td>\n",
       "      <td>0.952496</td>\n",
       "      <td>0.950368</td>\n",
       "      <td>0.955304</td>\n",
       "      <td>0.955510</td>\n",
       "      <td>0.955456</td>\n",
       "      <td>0.954800</td>\n",
       "    </tr>\n",
       "    <tr>\n",
       "      <th>oofs_unrelated_2</th>\n",
       "      <td>0.972572</td>\n",
       "      <td>0.979417</td>\n",
       "      <td>1.000000</td>\n",
       "      <td>0.948158</td>\n",
       "      <td>0.952290</td>\n",
       "      <td>0.950251</td>\n",
       "      <td>0.954365</td>\n",
       "      <td>0.957542</td>\n",
       "      <td>0.949502</td>\n",
       "    </tr>\n",
       "    <tr>\n",
       "      <th>oofs_unrelated_3</th>\n",
       "      <td>0.952930</td>\n",
       "      <td>0.952496</td>\n",
       "      <td>0.948158</td>\n",
       "      <td>1.000000</td>\n",
       "      <td>0.979002</td>\n",
       "      <td>0.973876</td>\n",
       "      <td>0.965568</td>\n",
       "      <td>0.969264</td>\n",
       "      <td>0.969451</td>\n",
       "    </tr>\n",
       "    <tr>\n",
       "      <th>oofs_unrelated_4</th>\n",
       "      <td>0.949506</td>\n",
       "      <td>0.950368</td>\n",
       "      <td>0.952290</td>\n",
       "      <td>0.979002</td>\n",
       "      <td>1.000000</td>\n",
       "      <td>0.967039</td>\n",
       "      <td>0.967506</td>\n",
       "      <td>0.975886</td>\n",
       "      <td>0.963249</td>\n",
       "    </tr>\n",
       "    <tr>\n",
       "      <th>oofs_unrelated_5</th>\n",
       "      <td>0.954771</td>\n",
       "      <td>0.955304</td>\n",
       "      <td>0.950251</td>\n",
       "      <td>0.973876</td>\n",
       "      <td>0.967039</td>\n",
       "      <td>1.000000</td>\n",
       "      <td>0.978773</td>\n",
       "      <td>0.978637</td>\n",
       "      <td>0.978786</td>\n",
       "    </tr>\n",
       "    <tr>\n",
       "      <th>oofs_unrelated_6</th>\n",
       "      <td>0.955016</td>\n",
       "      <td>0.955510</td>\n",
       "      <td>0.954365</td>\n",
       "      <td>0.965568</td>\n",
       "      <td>0.967506</td>\n",
       "      <td>0.978773</td>\n",
       "      <td>1.000000</td>\n",
       "      <td>0.981089</td>\n",
       "      <td>0.979624</td>\n",
       "    </tr>\n",
       "    <tr>\n",
       "      <th>oofs_unrelated_7</th>\n",
       "      <td>0.952586</td>\n",
       "      <td>0.955456</td>\n",
       "      <td>0.957542</td>\n",
       "      <td>0.969264</td>\n",
       "      <td>0.975886</td>\n",
       "      <td>0.978637</td>\n",
       "      <td>0.981089</td>\n",
       "      <td>1.000000</td>\n",
       "      <td>0.974969</td>\n",
       "    </tr>\n",
       "    <tr>\n",
       "      <th>oofs_unrelated_8</th>\n",
       "      <td>0.955786</td>\n",
       "      <td>0.954800</td>\n",
       "      <td>0.949502</td>\n",
       "      <td>0.969451</td>\n",
       "      <td>0.963249</td>\n",
       "      <td>0.978786</td>\n",
       "      <td>0.979624</td>\n",
       "      <td>0.974969</td>\n",
       "      <td>1.000000</td>\n",
       "    </tr>\n",
       "  </tbody>\n",
       "</table>\n",
       "</div>"
      ],
      "text/plain": [
       "                  oofs_unrelated_0  oofs_unrelated_1  oofs_unrelated_2  \\\n",
       "oofs_unrelated_0          1.000000          0.978855          0.972572   \n",
       "oofs_unrelated_1          0.978855          1.000000          0.979417   \n",
       "oofs_unrelated_2          0.972572          0.979417          1.000000   \n",
       "oofs_unrelated_3          0.952930          0.952496          0.948158   \n",
       "oofs_unrelated_4          0.949506          0.950368          0.952290   \n",
       "oofs_unrelated_5          0.954771          0.955304          0.950251   \n",
       "oofs_unrelated_6          0.955016          0.955510          0.954365   \n",
       "oofs_unrelated_7          0.952586          0.955456          0.957542   \n",
       "oofs_unrelated_8          0.955786          0.954800          0.949502   \n",
       "\n",
       "                  oofs_unrelated_3  oofs_unrelated_4  oofs_unrelated_5  \\\n",
       "oofs_unrelated_0          0.952930          0.949506          0.954771   \n",
       "oofs_unrelated_1          0.952496          0.950368          0.955304   \n",
       "oofs_unrelated_2          0.948158          0.952290          0.950251   \n",
       "oofs_unrelated_3          1.000000          0.979002          0.973876   \n",
       "oofs_unrelated_4          0.979002          1.000000          0.967039   \n",
       "oofs_unrelated_5          0.973876          0.967039          1.000000   \n",
       "oofs_unrelated_6          0.965568          0.967506          0.978773   \n",
       "oofs_unrelated_7          0.969264          0.975886          0.978637   \n",
       "oofs_unrelated_8          0.969451          0.963249          0.978786   \n",
       "\n",
       "                  oofs_unrelated_6  oofs_unrelated_7  oofs_unrelated_8  \n",
       "oofs_unrelated_0          0.955016          0.952586          0.955786  \n",
       "oofs_unrelated_1          0.955510          0.955456          0.954800  \n",
       "oofs_unrelated_2          0.954365          0.957542          0.949502  \n",
       "oofs_unrelated_3          0.965568          0.969264          0.969451  \n",
       "oofs_unrelated_4          0.967506          0.975886          0.963249  \n",
       "oofs_unrelated_5          0.978773          0.978637          0.978786  \n",
       "oofs_unrelated_6          1.000000          0.981089          0.979624  \n",
       "oofs_unrelated_7          0.981089          1.000000          0.974969  \n",
       "oofs_unrelated_8          0.979624          0.974969          1.000000  "
      ]
     },
     "execution_count": 13,
     "metadata": {},
     "output_type": "execute_result"
    }
   ],
   "source": [
    "unrelated.corr()"
   ]
  },
  {
   "cell_type": "markdown",
   "metadata": {},
   "source": [
    "# Prepare Different Inputs"
   ]
  },
  {
   "cell_type": "code",
   "execution_count": 22,
   "metadata": {
    "collapsed": true
   },
   "outputs": [],
   "source": [
    "# word level\n",
    "ensemble_trains = trains.values[:, :-9]\n",
    "ensemble_tests = tests.values[:, :-9]"
   ]
  },
  {
   "cell_type": "code",
   "execution_count": 27,
   "metadata": {
    "collapsed": true
   },
   "outputs": [],
   "source": [
    "# Only use oofs\n",
    "#ensemble_trains = trains.values\n",
    "#ensemble_tests = tests.values"
   ]
  },
  {
   "cell_type": "code",
   "execution_count": 16,
   "metadata": {
    "collapsed": true
   },
   "outputs": [],
   "source": [
    "# Use oof and meta features\n",
    "#ensemble_trains = np.concatenate((trains.values, trains_meta), axis=1)\n",
    "#ensemble_tests = np.concatenate((tests.values, tests_meta), axis=1)"
   ]
  },
  {
   "cell_type": "code",
   "execution_count": 21,
   "metadata": {
    "collapsed": true
   },
   "outputs": [],
   "source": [
    "# use oofs and meta-features\n",
    "#ensemble_trains = np.concatenate((trains.values, trick_trains_features), axis=1)\n",
    "#ensemble_tests = np.concatenate((tests.values, trick_tests_features), axis=1)"
   ]
  },
  {
   "cell_type": "code",
   "execution_count": 41,
   "metadata": {
    "collapsed": true
   },
   "outputs": [],
   "source": [
    "#ensemble_trains = trick_trains_features\n",
    "#ensemble_tests = trick_tests_features"
   ]
  },
  {
   "cell_type": "markdown",
   "metadata": {},
   "source": [
    "# LGBM"
   ]
  },
  {
   "cell_type": "code",
   "execution_count": 23,
   "metadata": {
    "collapsed": true
   },
   "outputs": [],
   "source": [
    "from sklearn import metrics"
   ]
  },
  {
   "cell_type": "code",
   "execution_count": 24,
   "metadata": {
    "collapsed": true
   },
   "outputs": [],
   "source": [
    "def fit_every_feature_model(feature_data, label, feature_test_data, fold_count=3, predict=True):\n",
    "    predictions = np.zeros(shape=[len(feature_test_data), 3])\n",
    "    fold_size = len(feature_data) // fold_count\n",
    "    oofs = []\n",
    "    \n",
    "    log_loss = 0\n",
    "    for fold_id in range(fold_count):\n",
    "        print(\"Fold : \", fold_id)\n",
    "        fold_start = fold_size * fold_id\n",
    "        fold_end = fold_start + fold_size\n",
    "        if fold_id == fold_count - 1:\n",
    "            fold_end = len(feature_data)\n",
    "                \n",
    "        train_x = np.concatenate([feature_data[:fold_start], feature_data[fold_end:]])\n",
    "        train_y = np.concatenate([label[:fold_start], label[fold_end:]])\n",
    "\n",
    "        val_x = feature_data[fold_start:fold_end]\n",
    "        val_y = label[fold_start:fold_end]\n",
    "        \n",
    "        lgb_train = lgb.Dataset(train_x, train_y)\n",
    "        lgb_val = lgb.Dataset(val_x, val_y)\n",
    "        \n",
    "        lgb_params = {\n",
    "            'boosting_type' : 'gbdt',\n",
    "            'objective' : 'multiclass',\n",
    "            'num_class':3,\n",
    "            'metric' : {'multi_logloss',},\n",
    "            'learning_rate' : 0.01,\n",
    "            'feature_fraction' : 0.8,\n",
    "            'bagging_fraction': 0.9,\n",
    "            'bagging_freq': 1,\n",
    "            'num_leaves' : 4,\n",
    "            'max_depth': 16,\n",
    "            'random_state': 42,\n",
    "            'nthread': 8,\n",
    "        }\n",
    "        \n",
    "        lgbm_model = lgb.train(lgb_params, lgb_train, num_boost_round=100000, valid_sets=[lgb_train, lgb_val],\n",
    "                        early_stopping_rounds=1000, verbose_eval=100)\n",
    "        \n",
    "        lgb.plot_importance(lgbm_model)\n",
    "        plt.show()\n",
    "        if predict:\n",
    "            prediction = lgbm_model.predict(feature_test_data, num_iteration=lgbm_model.best_iteration)\n",
    "            oof_prediction = lgbm_model.predict(val_x, num_iteration=lgbm_model.best_iteration)\n",
    "            score = metrics.log_loss(val_y, oof_prediction)\n",
    "            print(\"Fold\", fold_id, \"log loss\", score, \"in\", lgbm_model.best_iteration)\n",
    "            log_loss += score\n",
    "            oofs.append(oof_prediction)\n",
    "            predictions += prediction\n",
    "            del lgbm_model\n",
    "    predictions /= fold_count   \n",
    "    print(\"Training  Finish\")\n",
    "\n",
    "    return predictions, log_loss / fold_count, oofs"
   ]
  },
  {
   "cell_type": "code",
   "execution_count": 25,
   "metadata": {},
   "outputs": [
    {
     "name": "stdout",
     "output_type": "stream",
     "text": [
      "Fold :  0\n",
      "Training until validation scores don't improve for 1000 rounds.\n",
      "[100]\ttraining's multi_logloss: 0.533625\tvalid_1's multi_logloss: 0.536458\n",
      "[200]\ttraining's multi_logloss: 0.366426\tvalid_1's multi_logloss: 0.371247\n",
      "[300]\ttraining's multi_logloss: 0.30671\tvalid_1's multi_logloss: 0.312181\n",
      "[400]\ttraining's multi_logloss: 0.282843\tvalid_1's multi_logloss: 0.288617\n",
      "[500]\ttraining's multi_logloss: 0.272383\tvalid_1's multi_logloss: 0.278319\n",
      "[600]\ttraining's multi_logloss: 0.267357\tvalid_1's multi_logloss: 0.273385\n",
      "[700]\ttraining's multi_logloss: 0.26471\tvalid_1's multi_logloss: 0.270879\n",
      "[800]\ttraining's multi_logloss: 0.263188\tvalid_1's multi_logloss: 0.269527\n",
      "[900]\ttraining's multi_logloss: 0.262247\tvalid_1's multi_logloss: 0.268759\n",
      "[1000]\ttraining's multi_logloss: 0.261631\tvalid_1's multi_logloss: 0.268298\n",
      "[1100]\ttraining's multi_logloss: 0.261206\tvalid_1's multi_logloss: 0.268028\n",
      "[1200]\ttraining's multi_logloss: 0.260909\tvalid_1's multi_logloss: 0.267859\n",
      "[1300]\ttraining's multi_logloss: 0.260687\tvalid_1's multi_logloss: 0.267743\n",
      "[1400]\ttraining's multi_logloss: 0.260509\tvalid_1's multi_logloss: 0.267675\n",
      "[1500]\ttraining's multi_logloss: 0.260349\tvalid_1's multi_logloss: 0.267631\n",
      "[1600]\ttraining's multi_logloss: 0.260204\tvalid_1's multi_logloss: 0.267596\n",
      "[1700]\ttraining's multi_logloss: 0.260068\tvalid_1's multi_logloss: 0.267581\n",
      "[1800]\ttraining's multi_logloss: 0.259936\tvalid_1's multi_logloss: 0.267556\n",
      "[1900]\ttraining's multi_logloss: 0.259802\tvalid_1's multi_logloss: 0.267559\n",
      "[2000]\ttraining's multi_logloss: 0.259675\tvalid_1's multi_logloss: 0.267566\n",
      "[2100]\ttraining's multi_logloss: 0.259545\tvalid_1's multi_logloss: 0.267572\n",
      "[2200]\ttraining's multi_logloss: 0.259423\tvalid_1's multi_logloss: 0.267588\n",
      "[2300]\ttraining's multi_logloss: 0.259302\tvalid_1's multi_logloss: 0.267591\n",
      "[2400]\ttraining's multi_logloss: 0.259185\tvalid_1's multi_logloss: 0.267607\n",
      "[2500]\ttraining's multi_logloss: 0.259069\tvalid_1's multi_logloss: 0.267607\n",
      "[2600]\ttraining's multi_logloss: 0.258953\tvalid_1's multi_logloss: 0.26762\n",
      "[2700]\ttraining's multi_logloss: 0.258836\tvalid_1's multi_logloss: 0.267628\n",
      "[2800]\ttraining's multi_logloss: 0.258728\tvalid_1's multi_logloss: 0.267641\n",
      "Early stopping, best iteration is:\n",
      "[1806]\ttraining's multi_logloss: 0.259927\tvalid_1's multi_logloss: 0.267551\n"
     ]
    },
    {
     "data": {
      "image/png": "[encoded data removed]",
      "text/plain": [
       "<matplotlib.figure.Figure at 0x16d41ccb5c0>"
      ]
     },
     "metadata": {},
     "output_type": "display_data"
    },
    {
     "name": "stdout",
     "output_type": "stream",
     "text": [
      "Fold 0 log loss 0.2675507081690603 in 1806\n",
      "Fold :  1\n",
      "Training until validation scores don't improve for 1000 rounds.\n",
      "[100]\ttraining's multi_logloss: 0.535975\tvalid_1's multi_logloss: 0.515325\n",
      "[200]\ttraining's multi_logloss: 0.369405\tvalid_1's multi_logloss: 0.343021\n",
      "[300]\ttraining's multi_logloss: 0.309893\tvalid_1's multi_logloss: 0.282651\n",
      "[400]\ttraining's multi_logloss: 0.286088\tvalid_1's multi_logloss: 0.258761\n",
      "[500]\ttraining's multi_logloss: 0.275627\tvalid_1's multi_logloss: 0.248412\n",
      "[600]\ttraining's multi_logloss: 0.270579\tvalid_1's multi_logloss: 0.243614\n",
      "[700]\ttraining's multi_logloss: 0.267913\tvalid_1's multi_logloss: 0.241232\n",
      "[800]\ttraining's multi_logloss: 0.266385\tvalid_1's multi_logloss: 0.239972\n",
      "[900]\ttraining's multi_logloss: 0.265444\tvalid_1's multi_logloss: 0.239266\n",
      "[1000]\ttraining's multi_logloss: 0.264839\tvalid_1's multi_logloss: 0.238832\n",
      "[1100]\ttraining's multi_logloss: 0.264422\tvalid_1's multi_logloss: 0.238558\n",
      "[1200]\ttraining's multi_logloss: 0.264125\tvalid_1's multi_logloss: 0.238367\n",
      "[1300]\ttraining's multi_logloss: 0.263897\tvalid_1's multi_logloss: 0.238235\n",
      "[1400]\ttraining's multi_logloss: 0.263711\tvalid_1's multi_logloss: 0.238138\n",
      "[1500]\ttraining's multi_logloss: 0.263544\tvalid_1's multi_logloss: 0.238079\n",
      "[1600]\ttraining's multi_logloss: 0.263397\tvalid_1's multi_logloss: 0.238048\n",
      "[1700]\ttraining's multi_logloss: 0.263258\tvalid_1's multi_logloss: 0.238011\n",
      "[1800]\ttraining's multi_logloss: 0.263121\tvalid_1's multi_logloss: 0.237986\n",
      "[1900]\ttraining's multi_logloss: 0.262988\tvalid_1's multi_logloss: 0.237975\n",
      "[2000]\ttraining's multi_logloss: 0.262857\tvalid_1's multi_logloss: 0.237963\n",
      "[2100]\ttraining's multi_logloss: 0.262727\tvalid_1's multi_logloss: 0.237961\n",
      "[2200]\ttraining's multi_logloss: 0.262603\tvalid_1's multi_logloss: 0.237962\n",
      "[2300]\ttraining's multi_logloss: 0.262475\tvalid_1's multi_logloss: 0.237951\n",
      "[2400]\ttraining's multi_logloss: 0.262358\tvalid_1's multi_logloss: 0.237953\n",
      "[2500]\ttraining's multi_logloss: 0.262241\tvalid_1's multi_logloss: 0.237955\n",
      "[2600]\ttraining's multi_logloss: 0.262126\tvalid_1's multi_logloss: 0.237947\n",
      "[2700]\ttraining's multi_logloss: 0.26201\tvalid_1's multi_logloss: 0.237946\n",
      "[2800]\ttraining's multi_logloss: 0.261898\tvalid_1's multi_logloss: 0.23794\n",
      "[2900]\ttraining's multi_logloss: 0.261789\tvalid_1's multi_logloss: 0.237929\n",
      "[3000]\ttraining's multi_logloss: 0.26168\tvalid_1's multi_logloss: 0.237928\n",
      "[3100]\ttraining's multi_logloss: 0.261573\tvalid_1's multi_logloss: 0.237919\n",
      "[3200]\ttraining's multi_logloss: 0.261466\tvalid_1's multi_logloss: 0.23791\n",
      "[3300]\ttraining's multi_logloss: 0.261359\tvalid_1's multi_logloss: 0.237903\n",
      "[3400]\ttraining's multi_logloss: 0.261255\tvalid_1's multi_logloss: 0.237907\n",
      "[3500]\ttraining's multi_logloss: 0.26115\tvalid_1's multi_logloss: 0.237922\n",
      "[3600]\ttraining's multi_logloss: 0.261049\tvalid_1's multi_logloss: 0.237917\n",
      "[3700]\ttraining's multi_logloss: 0.260948\tvalid_1's multi_logloss: 0.237915\n",
      "[3800]\ttraining's multi_logloss: 0.260852\tvalid_1's multi_logloss: 0.237916\n",
      "[3900]\ttraining's multi_logloss: 0.260755\tvalid_1's multi_logloss: 0.237922\n",
      "[4000]\ttraining's multi_logloss: 0.260658\tvalid_1's multi_logloss: 0.237924\n",
      "[4100]\ttraining's multi_logloss: 0.26056\tvalid_1's multi_logloss: 0.23794\n",
      "[4200]\ttraining's multi_logloss: 0.260466\tvalid_1's multi_logloss: 0.237947\n",
      "[4300]\ttraining's multi_logloss: 0.260375\tvalid_1's multi_logloss: 0.237947\n",
      "Early stopping, best iteration is:\n",
      "[3337]\ttraining's multi_logloss: 0.261319\tvalid_1's multi_logloss: 0.237901\n"
     ]
    },
    {
     "data": {
      "image/png": "[encoded data removed]",
      "text/plain": [
       "<matplotlib.figure.Figure at 0x16d3bcd9080>"
      ]
     },
     "metadata": {},
     "output_type": "display_data"
    },
    {
     "name": "stdout",
     "output_type": "stream",
     "text": [
      "Fold 1 log loss 0.23790060514533928 in 3337\n",
      "Fold :  2\n",
      "Training until validation scores don't improve for 1000 rounds.\n",
      "[100]\ttraining's multi_logloss: 0.533918\tvalid_1's multi_logloss: 0.534443\n",
      "[200]\ttraining's multi_logloss: 0.366865\tvalid_1's multi_logloss: 0.367371\n",
      "[300]\ttraining's multi_logloss: 0.307203\tvalid_1's multi_logloss: 0.30743\n",
      "[400]\ttraining's multi_logloss: 0.28338\tvalid_1's multi_logloss: 0.2836\n",
      "[500]\ttraining's multi_logloss: 0.272953\tvalid_1's multi_logloss: 0.27301\n",
      "[600]\ttraining's multi_logloss: 0.267945\tvalid_1's multi_logloss: 0.2679\n",
      "[700]\ttraining's multi_logloss: 0.265298\tvalid_1's multi_logloss: 0.265241\n",
      "[800]\ttraining's multi_logloss: 0.263783\tvalid_1's multi_logloss: 0.263792\n",
      "[900]\ttraining's multi_logloss: 0.262844\tvalid_1's multi_logloss: 0.262962\n",
      "[1000]\ttraining's multi_logloss: 0.26223\tvalid_1's multi_logloss: 0.262461\n",
      "[1100]\ttraining's multi_logloss: 0.26181\tvalid_1's multi_logloss: 0.262144\n",
      "[1200]\ttraining's multi_logloss: 0.261503\tvalid_1's multi_logloss: 0.261966\n",
      "[1300]\ttraining's multi_logloss: 0.26127\tvalid_1's multi_logloss: 0.261861\n",
      "[1400]\ttraining's multi_logloss: 0.261083\tvalid_1's multi_logloss: 0.261799\n",
      "[1500]\ttraining's multi_logloss: 0.260918\tvalid_1's multi_logloss: 0.261772\n",
      "[1600]\ttraining's multi_logloss: 0.260772\tvalid_1's multi_logloss: 0.261757\n",
      "[1700]\ttraining's multi_logloss: 0.260634\tvalid_1's multi_logloss: 0.261742\n",
      "[1800]\ttraining's multi_logloss: 0.260494\tvalid_1's multi_logloss: 0.261736\n",
      "[1900]\ttraining's multi_logloss: 0.260354\tvalid_1's multi_logloss: 0.261728\n",
      "[2000]\ttraining's multi_logloss: 0.26022\tvalid_1's multi_logloss: 0.261718\n",
      "[2100]\ttraining's multi_logloss: 0.260089\tvalid_1's multi_logloss: 0.261712\n",
      "[2200]\ttraining's multi_logloss: 0.25996\tvalid_1's multi_logloss: 0.26171\n",
      "[2300]\ttraining's multi_logloss: 0.259835\tvalid_1's multi_logloss: 0.261703\n",
      "[2400]\ttraining's multi_logloss: 0.259714\tvalid_1's multi_logloss: 0.261698\n",
      "[2500]\ttraining's multi_logloss: 0.259595\tvalid_1's multi_logloss: 0.261713\n",
      "[2600]\ttraining's multi_logloss: 0.259479\tvalid_1's multi_logloss: 0.261708\n",
      "[2700]\ttraining's multi_logloss: 0.259362\tvalid_1's multi_logloss: 0.261708\n",
      "[2800]\ttraining's multi_logloss: 0.259247\tvalid_1's multi_logloss: 0.261714\n",
      "[2900]\ttraining's multi_logloss: 0.259139\tvalid_1's multi_logloss: 0.261716\n",
      "[3000]\ttraining's multi_logloss: 0.259029\tvalid_1's multi_logloss: 0.261712\n",
      "[3100]\ttraining's multi_logloss: 0.258924\tvalid_1's multi_logloss: 0.26171\n",
      "[3200]\ttraining's multi_logloss: 0.258816\tvalid_1's multi_logloss: 0.261718\n",
      "[3300]\ttraining's multi_logloss: 0.258704\tvalid_1's multi_logloss: 0.261723\n",
      "[3400]\ttraining's multi_logloss: 0.258605\tvalid_1's multi_logloss: 0.261727\n",
      "Early stopping, best iteration is:\n",
      "[2405]\ttraining's multi_logloss: 0.259708\tvalid_1's multi_logloss: 0.261697\n"
     ]
    },
    {
     "data": {
      "image/png": "[encoded data removed]",
      "text/plain": [
       "<matplotlib.figure.Figure at 0x16d4b64be80>"
      ]
     },
     "metadata": {},
     "output_type": "display_data"
    },
    {
     "name": "stdout",
     "output_type": "stream",
     "text": [
      "Fold 2 log loss 0.26169731449645584 in 2405\n",
      "Fold :  3\n",
      "Training until validation scores don't improve for 1000 rounds.\n",
      "[100]\ttraining's multi_logloss: 0.532914\tvalid_1's multi_logloss: 0.542419\n",
      "[200]\ttraining's multi_logloss: 0.365586\tvalid_1's multi_logloss: 0.378324\n",
      "[300]\ttraining's multi_logloss: 0.305851\tvalid_1's multi_logloss: 0.3196\n",
      "[400]\ttraining's multi_logloss: 0.282004\tvalid_1's multi_logloss: 0.29591\n",
      "[500]\ttraining's multi_logloss: 0.271559\tvalid_1's multi_logloss: 0.285432\n",
      "[600]\ttraining's multi_logloss: 0.266544\tvalid_1's multi_logloss: 0.280403\n",
      "[700]\ttraining's multi_logloss: 0.263901\tvalid_1's multi_logloss: 0.27776\n",
      "[800]\ttraining's multi_logloss: 0.262391\tvalid_1's multi_logloss: 0.276345\n",
      "[900]\ttraining's multi_logloss: 0.261452\tvalid_1's multi_logloss: 0.275547\n",
      "[1000]\ttraining's multi_logloss: 0.260839\tvalid_1's multi_logloss: 0.275096\n",
      "[1100]\ttraining's multi_logloss: 0.260413\tvalid_1's multi_logloss: 0.274825\n",
      "[1200]\ttraining's multi_logloss: 0.260106\tvalid_1's multi_logloss: 0.274657\n",
      "[1300]\ttraining's multi_logloss: 0.259873\tvalid_1's multi_logloss: 0.274558\n",
      "[1400]\ttraining's multi_logloss: 0.259684\tvalid_1's multi_logloss: 0.274487\n",
      "[1500]\ttraining's multi_logloss: 0.259516\tvalid_1's multi_logloss: 0.274457\n",
      "[1600]\ttraining's multi_logloss: 0.259367\tvalid_1's multi_logloss: 0.274439\n",
      "[1700]\ttraining's multi_logloss: 0.259226\tvalid_1's multi_logloss: 0.274432\n",
      "[1800]\ttraining's multi_logloss: 0.25909\tvalid_1's multi_logloss: 0.274423\n",
      "[1900]\ttraining's multi_logloss: 0.258955\tvalid_1's multi_logloss: 0.274427\n",
      "[2000]\ttraining's multi_logloss: 0.258825\tvalid_1's multi_logloss: 0.274452\n",
      "[2100]\ttraining's multi_logloss: 0.258701\tvalid_1's multi_logloss: 0.274453\n",
      "[2200]\ttraining's multi_logloss: 0.258575\tvalid_1's multi_logloss: 0.274456\n",
      "[2300]\ttraining's multi_logloss: 0.258448\tvalid_1's multi_logloss: 0.274467\n",
      "[2400]\ttraining's multi_logloss: 0.258324\tvalid_1's multi_logloss: 0.274448\n",
      "[2500]\ttraining's multi_logloss: 0.25821\tvalid_1's multi_logloss: 0.274445\n",
      "[2600]\ttraining's multi_logloss: 0.258094\tvalid_1's multi_logloss: 0.274459\n",
      "[2700]\ttraining's multi_logloss: 0.257978\tvalid_1's multi_logloss: 0.274452\n",
      "Early stopping, best iteration is:\n",
      "[1770]\ttraining's multi_logloss: 0.259131\tvalid_1's multi_logloss: 0.274418\n"
     ]
    },
    {
     "data": {
      "image/png": "[encoded data removed]",
      "text/plain": [
       "<matplotlib.figure.Figure at 0x16d75776b00>"
      ]
     },
     "metadata": {},
     "output_type": "display_data"
    },
    {
     "name": "stdout",
     "output_type": "stream",
     "text": [
      "Fold 3 log loss 0.274417589877202 in 1770\n",
      "Fold :  4\n",
      "Training until validation scores don't improve for 1000 rounds.\n",
      "[100]\ttraining's multi_logloss: 0.534982\tvalid_1's multi_logloss: 0.526302\n",
      "[200]\ttraining's multi_logloss: 0.368161\tvalid_1's multi_logloss: 0.356563\n",
      "[300]\ttraining's multi_logloss: 0.308529\tvalid_1's multi_logloss: 0.295882\n",
      "[400]\ttraining's multi_logloss: 0.284675\tvalid_1's multi_logloss: 0.27179\n",
      "[500]\ttraining's multi_logloss: 0.274202\tvalid_1's multi_logloss: 0.261417\n",
      "[600]\ttraining's multi_logloss: 0.269166\tvalid_1's multi_logloss: 0.256502\n",
      "[700]\ttraining's multi_logloss: 0.266508\tvalid_1's multi_logloss: 0.253996\n",
      "[800]\ttraining's multi_logloss: 0.264979\tvalid_1's multi_logloss: 0.252615\n",
      "[900]\ttraining's multi_logloss: 0.264034\tvalid_1's multi_logloss: 0.251839\n",
      "[1000]\ttraining's multi_logloss: 0.263416\tvalid_1's multi_logloss: 0.251392\n",
      "[1100]\ttraining's multi_logloss: 0.262992\tvalid_1's multi_logloss: 0.251119\n",
      "[1200]\ttraining's multi_logloss: 0.262683\tvalid_1's multi_logloss: 0.250956\n",
      "[1300]\ttraining's multi_logloss: 0.262442\tvalid_1's multi_logloss: 0.250861\n",
      "[1400]\ttraining's multi_logloss: 0.262253\tvalid_1's multi_logloss: 0.250816\n",
      "[1500]\ttraining's multi_logloss: 0.262091\tvalid_1's multi_logloss: 0.250775\n",
      "[1600]\ttraining's multi_logloss: 0.261945\tvalid_1's multi_logloss: 0.25075\n",
      "[1700]\ttraining's multi_logloss: 0.261805\tvalid_1's multi_logloss: 0.250738\n",
      "[1800]\ttraining's multi_logloss: 0.261664\tvalid_1's multi_logloss: 0.250743\n",
      "[1900]\ttraining's multi_logloss: 0.261525\tvalid_1's multi_logloss: 0.250758\n",
      "[2000]\ttraining's multi_logloss: 0.261395\tvalid_1's multi_logloss: 0.250752\n",
      "[2100]\ttraining's multi_logloss: 0.261268\tvalid_1's multi_logloss: 0.250765\n",
      "[2200]\ttraining's multi_logloss: 0.261143\tvalid_1's multi_logloss: 0.250764\n",
      "[2300]\ttraining's multi_logloss: 0.261016\tvalid_1's multi_logloss: 0.250759\n",
      "[2400]\ttraining's multi_logloss: 0.260888\tvalid_1's multi_logloss: 0.250757\n",
      "[2500]\ttraining's multi_logloss: 0.260775\tvalid_1's multi_logloss: 0.250761\n",
      "[2600]\ttraining's multi_logloss: 0.260655\tvalid_1's multi_logloss: 0.250772\n",
      "Early stopping, best iteration is:\n",
      "[1689]\ttraining's multi_logloss: 0.261823\tvalid_1's multi_logloss: 0.250735\n"
     ]
    },
    {
     "data": {
      "image/png": "[encoded data removed]",
      "text/plain": [
       "<matplotlib.figure.Figure at 0x16d760084a8>"
      ]
     },
     "metadata": {},
     "output_type": "display_data"
    },
    {
     "name": "stdout",
     "output_type": "stream",
     "text": [
      "Fold 4 log loss 0.25073535394617447 in 1689\n",
      "Fold :  5\n",
      "Training until validation scores don't improve for 1000 rounds.\n",
      "[100]\ttraining's multi_logloss: 0.533078\tvalid_1's multi_logloss: 0.540784\n",
      "[200]\ttraining's multi_logloss: 0.365863\tvalid_1's multi_logloss: 0.375397\n",
      "[300]\ttraining's multi_logloss: 0.306173\tvalid_1's multi_logloss: 0.316198\n",
      "[400]\ttraining's multi_logloss: 0.282338\tvalid_1's multi_logloss: 0.292659\n",
      "[500]\ttraining's multi_logloss: 0.271897\tvalid_1's multi_logloss: 0.282353\n",
      "[600]\ttraining's multi_logloss: 0.266873\tvalid_1's multi_logloss: 0.277437\n",
      "[700]\ttraining's multi_logloss: 0.264227\tvalid_1's multi_logloss: 0.274907\n",
      "[800]\ttraining's multi_logloss: 0.262706\tvalid_1's multi_logloss: 0.273507\n",
      "[900]\ttraining's multi_logloss: 0.261762\tvalid_1's multi_logloss: 0.272706\n",
      "[1000]\ttraining's multi_logloss: 0.261146\tvalid_1's multi_logloss: 0.272249\n",
      "[1100]\ttraining's multi_logloss: 0.260721\tvalid_1's multi_logloss: 0.271978\n",
      "[1200]\ttraining's multi_logloss: 0.260418\tvalid_1's multi_logloss: 0.271826\n",
      "[1300]\ttraining's multi_logloss: 0.260185\tvalid_1's multi_logloss: 0.27174\n",
      "[1400]\ttraining's multi_logloss: 0.259995\tvalid_1's multi_logloss: 0.271692\n",
      "[1500]\ttraining's multi_logloss: 0.259835\tvalid_1's multi_logloss: 0.271669\n",
      "[1600]\ttraining's multi_logloss: 0.259686\tvalid_1's multi_logloss: 0.271652\n",
      "[1700]\ttraining's multi_logloss: 0.259546\tvalid_1's multi_logloss: 0.271656\n",
      "[1800]\ttraining's multi_logloss: 0.259401\tvalid_1's multi_logloss: 0.271666\n",
      "[1900]\ttraining's multi_logloss: 0.259269\tvalid_1's multi_logloss: 0.27168\n",
      "[2000]\ttraining's multi_logloss: 0.259133\tvalid_1's multi_logloss: 0.271695\n",
      "[2100]\ttraining's multi_logloss: 0.259003\tvalid_1's multi_logloss: 0.271709\n",
      "[2200]\ttraining's multi_logloss: 0.258875\tvalid_1's multi_logloss: 0.27173\n",
      "[2300]\ttraining's multi_logloss: 0.25875\tvalid_1's multi_logloss: 0.271738\n",
      "[2400]\ttraining's multi_logloss: 0.258626\tvalid_1's multi_logloss: 0.271752\n",
      "[2500]\ttraining's multi_logloss: 0.258506\tvalid_1's multi_logloss: 0.271781\n",
      "[2600]\ttraining's multi_logloss: 0.25839\tvalid_1's multi_logloss: 0.271796\n",
      "Early stopping, best iteration is:\n",
      "[1600]\ttraining's multi_logloss: 0.259686\tvalid_1's multi_logloss: 0.271652\n"
     ]
    },
    {
     "data": {
      "image/png": "[encoded data removed]",
      "text/plain": [
       "<matplotlib.figure.Figure at 0x16d4d69dda0>"
      ]
     },
     "metadata": {},
     "output_type": "display_data"
    },
    {
     "name": "stdout",
     "output_type": "stream",
     "text": [
      "Fold 5 log loss 0.27165172868094783 in 1600\n",
      "Fold :  6\n",
      "Training until validation scores don't improve for 1000 rounds.\n",
      "[100]\ttraining's multi_logloss: 0.53128\tvalid_1's multi_logloss: 0.552849\n",
      "[200]\ttraining's multi_logloss: 0.36362\tvalid_1's multi_logloss: 0.392816\n",
      "[300]\ttraining's multi_logloss: 0.303852\tvalid_1's multi_logloss: 0.336454\n",
      "[400]\ttraining's multi_logloss: 0.280031\tvalid_1's multi_logloss: 0.313812\n",
      "[500]\ttraining's multi_logloss: 0.269603\tvalid_1's multi_logloss: 0.303716\n",
      "[600]\ttraining's multi_logloss: 0.264599\tvalid_1's multi_logloss: 0.298859\n",
      "[700]\ttraining's multi_logloss: 0.261976\tvalid_1's multi_logloss: 0.296278\n",
      "[800]\ttraining's multi_logloss: 0.260477\tvalid_1's multi_logloss: 0.294812\n",
      "[900]\ttraining's multi_logloss: 0.259554\tvalid_1's multi_logloss: 0.293959\n",
      "[1000]\ttraining's multi_logloss: 0.258954\tvalid_1's multi_logloss: 0.29346\n",
      "[1100]\ttraining's multi_logloss: 0.258546\tvalid_1's multi_logloss: 0.293156\n",
      "[1200]\ttraining's multi_logloss: 0.258253\tvalid_1's multi_logloss: 0.29297\n",
      "[1300]\ttraining's multi_logloss: 0.258029\tvalid_1's multi_logloss: 0.292845\n",
      "[1400]\ttraining's multi_logloss: 0.257849\tvalid_1's multi_logloss: 0.292761\n",
      "[1500]\ttraining's multi_logloss: 0.2577\tvalid_1's multi_logloss: 0.292702\n",
      "[1600]\ttraining's multi_logloss: 0.257555\tvalid_1's multi_logloss: 0.292676\n",
      "[1700]\ttraining's multi_logloss: 0.25742\tvalid_1's multi_logloss: 0.292651\n",
      "[1800]\ttraining's multi_logloss: 0.257282\tvalid_1's multi_logloss: 0.292629\n",
      "[1900]\ttraining's multi_logloss: 0.257147\tvalid_1's multi_logloss: 0.292608\n",
      "[2000]\ttraining's multi_logloss: 0.257014\tvalid_1's multi_logloss: 0.292586\n",
      "[2100]\ttraining's multi_logloss: 0.256887\tvalid_1's multi_logloss: 0.292588\n",
      "[2200]\ttraining's multi_logloss: 0.256761\tvalid_1's multi_logloss: 0.29257\n",
      "[2300]\ttraining's multi_logloss: 0.256639\tvalid_1's multi_logloss: 0.292577\n",
      "[2400]\ttraining's multi_logloss: 0.256514\tvalid_1's multi_logloss: 0.292571\n",
      "[2500]\ttraining's multi_logloss: 0.256396\tvalid_1's multi_logloss: 0.292583\n",
      "[2600]\ttraining's multi_logloss: 0.256283\tvalid_1's multi_logloss: 0.292605\n",
      "[2700]\ttraining's multi_logloss: 0.256166\tvalid_1's multi_logloss: 0.292609\n",
      "[2800]\ttraining's multi_logloss: 0.256055\tvalid_1's multi_logloss: 0.292618\n",
      "[2900]\ttraining's multi_logloss: 0.255949\tvalid_1's multi_logloss: 0.292618\n",
      "[3000]\ttraining's multi_logloss: 0.25584\tvalid_1's multi_logloss: 0.292629\n",
      "[3100]\ttraining's multi_logloss: 0.255731\tvalid_1's multi_logloss: 0.292619\n",
      "[3200]\ttraining's multi_logloss: 0.255629\tvalid_1's multi_logloss: 0.29263\n",
      "[3300]\ttraining's multi_logloss: 0.255526\tvalid_1's multi_logloss: 0.292638\n",
      "Early stopping, best iteration is:\n",
      "[2363]\ttraining's multi_logloss: 0.256559\tvalid_1's multi_logloss: 0.29256\n"
     ]
    },
    {
     "data": {
      "image/png": "[encoded data removed]",
      "text/plain": [
       "<matplotlib.figure.Figure at 0x16d760877b8>"
      ]
     },
     "metadata": {},
     "output_type": "display_data"
    },
    {
     "name": "stdout",
     "output_type": "stream",
     "text": [
      "Fold 6 log loss 0.29256034268764847 in 2363\n",
      "Fold :  7\n",
      "Training until validation scores don't improve for 1000 rounds.\n",
      "[100]\ttraining's multi_logloss: 0.533759\tvalid_1's multi_logloss: 0.535758\n",
      "[200]\ttraining's multi_logloss: 0.366682\tvalid_1's multi_logloss: 0.368803\n",
      "[300]\ttraining's multi_logloss: 0.307068\tvalid_1's multi_logloss: 0.308751\n",
      "[400]\ttraining's multi_logloss: 0.283257\tvalid_1's multi_logloss: 0.28471\n",
      "[500]\ttraining's multi_logloss: 0.272809\tvalid_1's multi_logloss: 0.274143\n",
      "[600]\ttraining's multi_logloss: 0.267793\tvalid_1's multi_logloss: 0.269107\n",
      "[700]\ttraining's multi_logloss: 0.265141\tvalid_1's multi_logloss: 0.266536\n",
      "[800]\ttraining's multi_logloss: 0.263605\tvalid_1's multi_logloss: 0.265144\n",
      "[900]\ttraining's multi_logloss: 0.262654\tvalid_1's multi_logloss: 0.264366\n",
      "[1000]\ttraining's multi_logloss: 0.262036\tvalid_1's multi_logloss: 0.263916\n",
      "[1100]\ttraining's multi_logloss: 0.261609\tvalid_1's multi_logloss: 0.263652\n",
      "[1200]\ttraining's multi_logloss: 0.261305\tvalid_1's multi_logloss: 0.2635\n",
      "[1300]\ttraining's multi_logloss: 0.261073\tvalid_1's multi_logloss: 0.263415\n",
      "[1400]\ttraining's multi_logloss: 0.260884\tvalid_1's multi_logloss: 0.263379\n",
      "[1500]\ttraining's multi_logloss: 0.260725\tvalid_1's multi_logloss: 0.263368\n",
      "[1600]\ttraining's multi_logloss: 0.260569\tvalid_1's multi_logloss: 0.263354\n",
      "[1700]\ttraining's multi_logloss: 0.260426\tvalid_1's multi_logloss: 0.263352\n",
      "[1800]\ttraining's multi_logloss: 0.260284\tvalid_1's multi_logloss: 0.263356\n",
      "[1900]\ttraining's multi_logloss: 0.260152\tvalid_1's multi_logloss: 0.263352\n",
      "[2000]\ttraining's multi_logloss: 0.260018\tvalid_1's multi_logloss: 0.263375\n",
      "[2100]\ttraining's multi_logloss: 0.259883\tvalid_1's multi_logloss: 0.263383\n",
      "[2200]\ttraining's multi_logloss: 0.259752\tvalid_1's multi_logloss: 0.263382\n",
      "[2300]\ttraining's multi_logloss: 0.259627\tvalid_1's multi_logloss: 0.263386\n",
      "[2400]\ttraining's multi_logloss: 0.259501\tvalid_1's multi_logloss: 0.263399\n",
      "[2500]\ttraining's multi_logloss: 0.259379\tvalid_1's multi_logloss: 0.263409\n",
      "[2600]\ttraining's multi_logloss: 0.259269\tvalid_1's multi_logloss: 0.26341\n",
      "Early stopping, best iteration is:\n",
      "[1667]\ttraining's multi_logloss: 0.260473\tvalid_1's multi_logloss: 0.263345\n"
     ]
    },
    {
     "data": {
      "image/png": "[encoded data removed]",
      "text/plain": [
       "<matplotlib.figure.Figure at 0x16d7614f940>"
      ]
     },
     "metadata": {},
     "output_type": "display_data"
    },
    {
     "name": "stdout",
     "output_type": "stream",
     "text": [
      "Fold 7 log loss 0.263345294966396 in 1667\n",
      "Fold :  8\n",
      "Training until validation scores don't improve for 1000 rounds.\n",
      "[100]\ttraining's multi_logloss: 0.533883\tvalid_1's multi_logloss: 0.535667\n",
      "[200]\ttraining's multi_logloss: 0.366833\tvalid_1's multi_logloss: 0.368266\n",
      "[300]\ttraining's multi_logloss: 0.307135\tvalid_1's multi_logloss: 0.308266\n",
      "[400]\ttraining's multi_logloss: 0.283279\tvalid_1's multi_logloss: 0.28444\n",
      "[500]\ttraining's multi_logloss: 0.272811\tvalid_1's multi_logloss: 0.27416\n",
      "[600]\ttraining's multi_logloss: 0.267776\tvalid_1's multi_logloss: 0.269307\n",
      "[700]\ttraining's multi_logloss: 0.265121\tvalid_1's multi_logloss: 0.266833\n",
      "[800]\ttraining's multi_logloss: 0.263613\tvalid_1's multi_logloss: 0.265491\n",
      "[900]\ttraining's multi_logloss: 0.26268\tvalid_1's multi_logloss: 0.264756\n",
      "[1000]\ttraining's multi_logloss: 0.262078\tvalid_1's multi_logloss: 0.264348\n",
      "[1100]\ttraining's multi_logloss: 0.261664\tvalid_1's multi_logloss: 0.264123\n",
      "[1200]\ttraining's multi_logloss: 0.261364\tvalid_1's multi_logloss: 0.263998\n",
      "[1300]\ttraining's multi_logloss: 0.261128\tvalid_1's multi_logloss: 0.263923\n",
      "[1400]\ttraining's multi_logloss: 0.260948\tvalid_1's multi_logloss: 0.263867\n",
      "[1500]\ttraining's multi_logloss: 0.260794\tvalid_1's multi_logloss: 0.26384\n",
      "[1600]\ttraining's multi_logloss: 0.26064\tvalid_1's multi_logloss: 0.263809\n",
      "[1700]\ttraining's multi_logloss: 0.260501\tvalid_1's multi_logloss: 0.263804\n",
      "[1800]\ttraining's multi_logloss: 0.260361\tvalid_1's multi_logloss: 0.263805\n",
      "[1900]\ttraining's multi_logloss: 0.260227\tvalid_1's multi_logloss: 0.263809\n",
      "[2000]\ttraining's multi_logloss: 0.260089\tvalid_1's multi_logloss: 0.263806\n",
      "[2100]\ttraining's multi_logloss: 0.259962\tvalid_1's multi_logloss: 0.263818\n",
      "[2200]\ttraining's multi_logloss: 0.259839\tvalid_1's multi_logloss: 0.263837\n",
      "[2300]\ttraining's multi_logloss: 0.259714\tvalid_1's multi_logloss: 0.263843\n",
      "[2400]\ttraining's multi_logloss: 0.259593\tvalid_1's multi_logloss: 0.263861\n",
      "[2500]\ttraining's multi_logloss: 0.259478\tvalid_1's multi_logloss: 0.26388\n",
      "[2600]\ttraining's multi_logloss: 0.259365\tvalid_1's multi_logloss: 0.263886\n",
      "Early stopping, best iteration is:\n",
      "[1672]\ttraining's multi_logloss: 0.260538\tvalid_1's multi_logloss: 0.263802\n"
     ]
    },
    {
     "data": {
      "image/png": "[encoded data removed]",
      "text/plain": [
       "<matplotlib.figure.Figure at 0x16d76a45dd8>"
      ]
     },
     "metadata": {},
     "output_type": "display_data"
    },
    {
     "name": "stdout",
     "output_type": "stream",
     "text": [
      "Fold 8 log loss 0.26380198476092676 in 1672\n",
      "Fold :  9\n",
      "Training until validation scores don't improve for 1000 rounds.\n",
      "[100]\ttraining's multi_logloss: 0.534809\tvalid_1's multi_logloss: 0.52501\n",
      "[200]\ttraining's multi_logloss: 0.368056\tvalid_1's multi_logloss: 0.355506\n",
      "[300]\ttraining's multi_logloss: 0.308497\tvalid_1's multi_logloss: 0.295423\n",
      "[400]\ttraining's multi_logloss: 0.284646\tvalid_1's multi_logloss: 0.271715\n",
      "[500]\ttraining's multi_logloss: 0.274176\tvalid_1's multi_logloss: 0.261519\n",
      "[600]\ttraining's multi_logloss: 0.269127\tvalid_1's multi_logloss: 0.256815\n",
      "[700]\ttraining's multi_logloss: 0.266464\tvalid_1's multi_logloss: 0.254484\n",
      "[800]\ttraining's multi_logloss: 0.264926\tvalid_1's multi_logloss: 0.253234\n",
      "[900]\ttraining's multi_logloss: 0.263963\tvalid_1's multi_logloss: 0.252541\n",
      "[1000]\ttraining's multi_logloss: 0.263336\tvalid_1's multi_logloss: 0.252148\n",
      "[1100]\ttraining's multi_logloss: 0.262906\tvalid_1's multi_logloss: 0.251921\n",
      "[1200]\ttraining's multi_logloss: 0.262597\tvalid_1's multi_logloss: 0.251798\n",
      "[1300]\ttraining's multi_logloss: 0.262354\tvalid_1's multi_logloss: 0.251723\n",
      "[1400]\ttraining's multi_logloss: 0.262152\tvalid_1's multi_logloss: 0.251691\n",
      "[1500]\ttraining's multi_logloss: 0.261983\tvalid_1's multi_logloss: 0.251692\n",
      "[1600]\ttraining's multi_logloss: 0.261833\tvalid_1's multi_logloss: 0.251712\n",
      "[1700]\ttraining's multi_logloss: 0.26169\tvalid_1's multi_logloss: 0.251736\n",
      "[1800]\ttraining's multi_logloss: 0.261557\tvalid_1's multi_logloss: 0.251757\n",
      "[1900]\ttraining's multi_logloss: 0.26142\tvalid_1's multi_logloss: 0.251796\n",
      "[2000]\ttraining's multi_logloss: 0.261284\tvalid_1's multi_logloss: 0.251838\n",
      "[2100]\ttraining's multi_logloss: 0.261151\tvalid_1's multi_logloss: 0.251866\n",
      "[2200]\ttraining's multi_logloss: 0.261025\tvalid_1's multi_logloss: 0.251897\n",
      "[2300]\ttraining's multi_logloss: 0.2609\tvalid_1's multi_logloss: 0.251908\n",
      "[2400]\ttraining's multi_logloss: 0.260777\tvalid_1's multi_logloss: 0.251931\n",
      "Early stopping, best iteration is:\n",
      "[1408]\ttraining's multi_logloss: 0.262137\tvalid_1's multi_logloss: 0.251689\n"
     ]
    },
    {
     "data": {
      "image/png": "[encoded data removed]",
      "text/plain": [
       "<matplotlib.figure.Figure at 0x16d76bbc898>"
      ]
     },
     "metadata": {},
     "output_type": "display_data"
    },
    {
     "name": "stdout",
     "output_type": "stream",
     "text": [
      "Fold 9 log loss 0.25168880960142886 in 1408\n",
      "Training  Finish\n"
     ]
    }
   ],
   "source": [
    "pred, log_loss, oofs = fit_every_feature_model(ensemble_trains, labels, ensemble_tests, fold_count=10)"
   ]
  },
  {
   "cell_type": "code",
   "execution_count": 26,
   "metadata": {},
   "outputs": [
    {
     "name": "stdout",
     "output_type": "stream",
     "text": [
      "Word level log_loss 0.26353497323315794\n"
     ]
    }
   ],
   "source": [
    "print(\"Word level log_loss\", log_loss)"
   ]
  },
  {
   "cell_type": "code",
   "execution_count": 27,
   "metadata": {},
   "outputs": [
    {
     "data": {
      "text/plain": [
       "array([0, 0, 0, ..., 0, 0, 0], dtype=int64)"
      ]
     },
     "execution_count": 27,
     "metadata": {},
     "output_type": "execute_result"
    }
   ],
   "source": [
    "oofs = np.concatenate(oofs)\n",
    "oofs.argmax(axis=1)"
   ]
  },
  {
   "cell_type": "code",
   "execution_count": 28,
   "metadata": {
    "collapsed": true
   },
   "outputs": [],
   "source": [
    "def np_weighted_accuracy(y_true, y_pred):\n",
    "    weight = np.array([[1/16, 1/15, 1/5]])\n",
    "    norm = [(1/16) + (1/15) + (1/5)]\n",
    "    weight_mask = weight * y_true\n",
    "    weight_mask = np.max(weight_mask, axis=-1)\n",
    "    norms = np.sum(weight_mask)\n",
    "    \n",
    "    y_true = np.argmax(y_true, axis=-1)\n",
    "    y_pred = np.argmax(y_pred, axis=-1)\n",
    "    \n",
    "    res = ((y_true == y_pred) * weight_mask).sum() / norms\n",
    "    return res"
   ]
  },
  {
   "cell_type": "code",
   "execution_count": 29,
   "metadata": {
    "collapsed": true
   },
   "outputs": [],
   "source": [
    "score = np_weighted_accuracy(to_categorical(labels), oofs)"
   ]
  },
  {
   "cell_type": "code",
   "execution_count": 30,
   "metadata": {},
   "outputs": [
    {
     "name": "stdout",
     "output_type": "stream",
     "text": [
      "score 0.8590955485191333\n",
      "Predicting training results...\n",
      "Predicting labeled testing results...\n"
     ]
    }
   ],
   "source": [
    "print(\"score\", score)\n",
    "oofs_dir = \"../data/ensemble/oofs/\"\n",
    "output_dir = \"../data/ensemble/preds/\"\n",
    "onehot_pred_dir = \"../data/ensemble/nn_one_hot/\"\n",
    "\n",
    "model_submit_prefix = \"LightGBMWordLevel-Ensemble\"\n",
    "\n",
    "oofs_path = oofs_dir + model_submit_prefix\n",
    "output_path = output_dir + model_submit_prefix\n",
    "one_hot_pred_path = onehot_pred_dir + \"One-Hot\" + model_submit_prefix\n",
    "\n",
    "print(\"Predicting training results...\")\n",
    "oofs = pd.DataFrame({\"unrelated\": oofs[:, 0], \"agreed\": oofs[:, 1], \"disagreed\": oofs[:, 2]})\n",
    "submit_path = oofs_path + \"-Train-L{:4f}-NB{:d}.csv\".format(score, NB_WORDS)\n",
    "oofs.to_csv(submit_path, index=False)\n",
    "\n",
    "test_predicts = pd.DataFrame({\"unrelated\": pred[:, 0], \"agreed\": pred[:, 1], \"disagreed\": pred[:, 2]})\n",
    "submit_path = output_path + \"-L{:4f}-NB{:d}.csv\".format(score, NB_WORDS)\n",
    "test_predicts.to_csv(submit_path, index=False) # 0.3343\n",
    "\n",
    "print(\"Predicting labeled testing results...\")\n",
    "ids = pd.read_csv(\"../data/dataset/test.csv\")\n",
    "pred_labels = test_predicts.idxmax(axis=1)\n",
    "sub = pd.DataFrame({\"Id\": ids['id'].values, \"Category\": pred_labels})\n",
    "submit_path = one_hot_pred_path + \"-L{:4f}-NB{:d}.csv\".format(score, NB_WORDS)\n",
    "sub.to_csv(submit_path, index=False)"
   ]
  }
 ],
 "metadata": {
  "kernelspec": {
   "display_name": "Python 3",
   "language": "python",
   "name": "python3"
  },
  "language_info": {
   "codemirror_mode": {
    "name": "ipython",
    "version": 3
   },
   "file_extension": ".py",
   "mimetype": "text/x-python",
   "name": "python",
   "nbconvert_exporter": "python",
   "pygments_lexer": "ipython3",
   "version": "3.6.3"
  },
  "widgets": {
   "application/vnd.jupyter.widget-state+json": {
    "state": {},
    "version_major": 1,
    "version_minor": 0
   }
  }
 },
 "nbformat": 4,
 "nbformat_minor": 2
}
