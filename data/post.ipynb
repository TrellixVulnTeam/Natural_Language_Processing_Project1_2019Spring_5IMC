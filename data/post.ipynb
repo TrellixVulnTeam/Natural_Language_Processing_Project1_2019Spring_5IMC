{
 "cells": [
  {
   "cell_type": "code",
   "execution_count": 2,
   "metadata": {},
   "outputs": [],
   "source": [
    "import numpy as np\n",
    "import codecs\n",
    "import pandas as pd"
   ]
  },
  {
   "cell_type": "code",
   "execution_count": 3,
   "metadata": {},
   "outputs": [],
   "source": [
    "data = pd.read_csv('train.csv')"
   ]
  },
  {
   "cell_type": "code",
   "execution_count": 4,
   "metadata": {},
   "outputs": [],
   "source": [
    "mapping = {}"
   ]
  },
  {
   "cell_type": "code",
   "execution_count": 5,
   "metadata": {},
   "outputs": [],
   "source": [
    "tid1s = data['tid1'].tolist()\n",
    "tid2s = data['tid2'].tolist()\n",
    "title1_zhs = data['title1_zh'].tolist()\n",
    "title2_zhs = data['title2_zh'].tolist()\n",
    "title1_ens = data['title1_en'].tolist()\n",
    "title2_ens = data['title2_en'].tolist()\n",
    "labels = data['label'].tolist()"
   ]
  },
  {
   "cell_type": "code",
   "execution_count": 7,
   "metadata": {},
   "outputs": [],
   "source": [
    "for tid1,tid2,title1_zh,title2_zh,title1_en,title2_en,label in zip(tid1s,tid2s,title1_zhs,title2_zhs,title1_ens,title2_ens,labels):\n",
    "    mapping[(tid1,tid2)] = label"
   ]
  },
  {
   "cell_type": "code",
   "execution_count": 8,
   "metadata": {},
   "outputs": [],
   "source": [
    "test = pd.read_csv('test.csv')"
   ]
  },
  {
   "cell_type": "code",
   "execution_count": 13,
   "metadata": {},
   "outputs": [
    {
     "name": "stdout",
     "output_type": "stream",
     "text": [
      "138\n"
     ]
    }
   ],
   "source": [
    "ids = test['id'].tolist()\n",
    "tid1s = test['tid1'].tolist()\n",
    "tid2s = test['tid2'].tolist()\n",
    "with open('pred.csv') as f:\n",
    "    line = f.readlines()\n",
    "count = 0\n",
    "with open('pred_pos.csv','w') as f:    \n",
    "    f.write(line[0])\n",
    "    for i,(gid,tid1,tid2) in enumerate(zip(ids,tid1s,tid2s)):\n",
    "        temp = None\n",
    "        if((tid1,tid2) in mapping):\n",
    "            temp = label\n",
    "        if((tid2,tid1) in mapping):\n",
    "            temp = label\n",
    "        \n",
    "        if(temp is not None):\n",
    "            f.write(\"{0},{1}\\n\".format(gid,temp))\n",
    "            count +=1\n",
    "        else:\n",
    "            f.write(\"{0},{1}\".format(gid,line[i+1].split(',')[1]))\n",
    "print(count)"
   ]
  },
  {
   "cell_type": "code",
   "execution_count": 15,
   "metadata": {},
   "outputs": [],
   "source": [
    "exist = set()\n",
    "mapping = {}\n",
    "strange = set()"
   ]
  },
  {
   "cell_type": "code",
   "execution_count": 16,
   "metadata": {},
   "outputs": [],
   "source": [
    "tid1s = data['tid1'].tolist()\n",
    "tid2s = data['tid2'].tolist()\n",
    "title1_zhs = data['title1_zh'].tolist()\n",
    "title2_zhs = data['title2_zh'].tolist()\n",
    "title1_ens = data['title1_en'].tolist()\n",
    "title2_ens = data['title2_en'].tolist()\n",
    "labels = data['label'].tolist()"
   ]
  },
  {
   "cell_type": "code",
   "execution_count": 17,
   "metadata": {},
   "outputs": [],
   "source": [
    "class graph:\n",
    "    def __init__(self):\n",
    "        self.data = {}\n",
    "        self.dis_path = {}\n",
    "        self.un = {}\n",
    "        \n",
    "    def add_link(self,a,b):\n",
    "        def add(a,b):\n",
    "            try:\n",
    "                self.data[a].append(b)\n",
    "            except:\n",
    "                self.data[a] = [b]\n",
    "        add(a,b)\n",
    "        add(b,a)\n",
    "    \n",
    "    def add_dis(self,a,b):\n",
    "        def dis(a,b):\n",
    "            if(b not in self.path):\n",
    "                self.path[b] = [b]        \n",
    "            if(a in self.path[b]):\n",
    "                strange.add((a,b))\n",
    "                return True\n",
    "            try:\n",
    "                self.dis_path[a].extend(self.path[b])\n",
    "            except KeyError as e:\n",
    "                self.dis_path[a] = self.path[b]\n",
    "            return False\n",
    "        \n",
    "        if(dis(a,b)):\n",
    "            return \n",
    "        dis(b,a)\n",
    "            \n",
    "    def dfs_all(self):\n",
    "        def dfs(a,check):\n",
    "            ans = [a]\n",
    "            check.add(a)\n",
    "            for p in self.data[a]:\n",
    "                if(p not in check):\n",
    "                    ans.extend(dfs(p,check))\n",
    "            return ans\n",
    "            \n",
    "            \n",
    "        self.path = {}\n",
    "        \n",
    "        for root in self.data:\n",
    "            temp = dfs(root,set())\n",
    "            \n",
    "            self.path[root] = temp\n",
    "            \n",
    "    def add_un(self,a,b):\n",
    "        def un(a,b):\n",
    "            \n",
    "            if((b in self.path and a in self.path[b]) or (b in self.dis_path and a in self.dis_path[b])):\n",
    "                strange.add((a,b))\n",
    "                return True\n",
    "            \n",
    "            try:\n",
    "                self.un[a].append(b)\n",
    "            except:\n",
    "                self.un[a] = [b]\n",
    "            return False\n",
    "        \n",
    "        if(un(a,b)):\n",
    "            return \n",
    "        un(b,a)\n",
    "        \n",
    "            "
   ]
  },
  {
   "cell_type": "code",
   "execution_count": 18,
   "metadata": {},
   "outputs": [],
   "source": [
    "g = graph()\n",
    "#first build up the disjoint set\n",
    "count = 0\n",
    "for tid1,tid2,title1_zh,title2_zh,title1_en,title2_en,label in zip(tid1s,tid2s,title1_zhs,title2_zhs,title1_ens,title2_ens,labels):\n",
    "    if(tid1 not in exist):\n",
    "        exist.add(tid1)\n",
    "        mapping[tid1] = [title1_zhs,title1_ens]\n",
    "    if(tid2 not in exist):\n",
    "        exist.add(tid2)\n",
    "        mapping[tid2] = [title2_zhs,title2_ens]\n",
    "    \n",
    "    if(tid2==42543 or tid1==42543):\n",
    "        continue\n",
    "    if(tid1==108313 and tid1==108312):\n",
    "        continue\n",
    "        \n",
    "    if(label=='agreed'):\n",
    "        count += 1\n",
    "        g.add_link(tid1,tid2)\n",
    "g.dfs_all()"
   ]
  },
  {
   "cell_type": "code",
   "execution_count": 19,
   "metadata": {},
   "outputs": [
    {
     "data": {
      "text/plain": [
       "(59018, 92966, 413301)"
      ]
     },
     "execution_count": 19,
     "metadata": {},
     "output_type": "execute_result"
    }
   ],
   "source": [
    "after_count = 0\n",
    "for key in g.path:\n",
    "    after_count += len(g.path[key])-1\n",
    "    \n",
    "len(g.path),count,after_count//2"
   ]
  },
  {
   "cell_type": "code",
   "execution_count": 20,
   "metadata": {},
   "outputs": [],
   "source": [
    "count = 0\n",
    "for tid1,tid2,title1_zh,title2_zh,title1_en,title2_en,label in zip(tid1s,tid2s,title1_zhs,title2_zhs,title1_ens,title2_ens,labels):\n",
    "    if(label=='disagreed'):\n",
    "        if(tid1 == tid2):\n",
    "            continue\n",
    "        count += 1\n",
    "        g.add_dis(tid1,tid2)\n"
   ]
  },
  {
   "cell_type": "code",
   "execution_count": 21,
   "metadata": {},
   "outputs": [
    {
     "data": {
      "text/plain": [
       "(66381, 8256, 166692)"
      ]
     },
     "execution_count": 21,
     "metadata": {},
     "output_type": "execute_result"
    }
   ],
   "source": [
    "after_count = 0\n",
    "for key in g.dis_path:\n",
    "    after_count += len(g.dis_path[key])\n",
    "    \n",
    "len(g.dis_path),count,after_count//2"
   ]
  },
  {
   "cell_type": "code",
   "execution_count": 22,
   "metadata": {},
   "outputs": [
    {
     "name": "stdout",
     "output_type": "stream",
     "text": [
      "{'unrelated': 96, 'agreed': 4, 'disagreed': 10}\n"
     ]
    }
   ],
   "source": [
    "count = {'unrelated':0,'agreed':0,'disagreed':0}\n",
    "for tid1,tid2,title1_zh,title2_zh,title1_en,title2_en,label in zip(tid1s,tid2s,title1_zhs,title2_zhs,title1_ens,title2_ens,labels):\n",
    "    if(tid1 == tid2):\n",
    "        count[label] += 1\n",
    "print(count)"
   ]
  },
  {
   "cell_type": "code",
   "execution_count": 23,
   "metadata": {},
   "outputs": [],
   "source": [
    "count = 0\n",
    "for tid1,tid2,title1_zh,title2_zh,title1_en,title2_en,label in zip(tid1s,tid2s,title1_zhs,title2_zhs,title1_ens,title2_ens,labels):\n",
    "    if(label=='unrelated'):\n",
    "        if(tid1 == tid2):\n",
    "            continue\n",
    "        count += 1\n",
    "        g.add_un(tid1,tid2)"
   ]
  },
  {
   "cell_type": "code",
   "execution_count": 24,
   "metadata": {},
   "outputs": [
    {
     "data": {
      "text/plain": [
       "(66381, 219217, 135845)"
      ]
     },
     "execution_count": 24,
     "metadata": {},
     "output_type": "execute_result"
    }
   ],
   "source": [
    "after_count = 0\n",
    "for key in g.un:\n",
    "    after_count += len(g.un[key])-1\n",
    "    \n",
    "len(g.un),count,after_count//2"
   ]
  },
  {
   "cell_type": "code",
   "execution_count": 30,
   "metadata": {},
   "outputs": [
    {
     "name": "stdout",
     "output_type": "stream",
     "text": [
      "[6867, 5, 44, 44, 1]\n"
     ]
    }
   ],
   "source": [
    "ids = test['id'].tolist()\n",
    "tid1s = test['tid1'].tolist()\n",
    "tid2s = test['tid2'].tolist()\n",
    "with open('pred.csv') as f:\n",
    "    line = f.readlines()\n",
    "count = [0,0,0,0,0]\n",
    "with open('pred_pos_pos.csv','w') as f:    \n",
    "    f.write(line[0])\n",
    "    for i,(gid,tid1,tid2) in enumerate(zip(ids,tid1s,tid2s)):\n",
    "        temp = None\n",
    "        \n",
    "        if((tid1 in g.path and tid2 in g.path[tid1]) or (tid1 in g.path and tid2 in g.path[tid1])):\n",
    "            #temp = 'agreed'\n",
    "            count[0] += 1\n",
    "        elif((tid1 in g.dis_path and tid2 in g.dis_path[tid1]) or (tid1 in g.dis_path and tid2 in g.dis_path[tid1])):\n",
    "            temp = 'disagreed'\n",
    "            count[1] += 1\n",
    "        elif((tid1 in g.un and tid2 in g.un[tid1]) or (tid1 in g.un and tid2 in g.un[tid1])):\n",
    "            temp = 'unrelated'\n",
    "            count[2] += 1\n",
    "        if(tid1 == tid2):\n",
    "            temp = 'unrelated'\n",
    "            count[3] += 1\n",
    "        if(tid2==42543):\n",
    "            temp = 'agreed'\n",
    "            count[4] += 1\n",
    "        \n",
    "        if(temp is not None):\n",
    "            f.write(\"{0},{1}\\n\".format(gid,temp))\n",
    "        else:\n",
    "            f.write(\"{0},{1}\".format(gid,line[i+1].split(',')[1]))\n",
    "print(count)"
   ]
  },
  {
   "cell_type": "code",
   "execution_count": null,
   "metadata": {},
   "outputs": [],
   "source": []
  }
 ],
 "metadata": {
  "kernelspec": {
   "display_name": "Python 3",
   "language": "python",
   "name": "python3"
  },
  "language_info": {
   "codemirror_mode": {
    "name": "ipython",
    "version": 3
   },
   "file_extension": ".py",
   "mimetype": "text/x-python",
   "name": "python",
   "nbconvert_exporter": "python",
   "pygments_lexer": "ipython3",
   "version": "3.6.7"
  }
 },
 "nbformat": 4,
 "nbformat_minor": 2
}
