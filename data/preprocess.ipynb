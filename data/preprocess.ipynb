{
 "cells": [
  {
   "cell_type": "code",
   "execution_count": 1,
   "metadata": {},
   "outputs": [],
   "source": [
    "import numpy as np\n",
    "import codecs\n",
    "import pandas as pd"
   ]
  },
  {
   "cell_type": "code",
   "execution_count": 2,
   "metadata": {},
   "outputs": [],
   "source": [
    "data = pd.read_csv('train.csv')"
   ]
  },
  {
   "cell_type": "code",
   "execution_count": 3,
   "metadata": {},
   "outputs": [
    {
     "data": {
      "text/html": [
       "<div>\n",
       "<style scoped>\n",
       "    .dataframe tbody tr th:only-of-type {\n",
       "        vertical-align: middle;\n",
       "    }\n",
       "\n",
       "    .dataframe tbody tr th {\n",
       "        vertical-align: top;\n",
       "    }\n",
       "\n",
       "    .dataframe thead th {\n",
       "        text-align: right;\n",
       "    }\n",
       "</style>\n",
       "<table border=\"1\" class=\"dataframe\">\n",
       "  <thead>\n",
       "    <tr style=\"text-align: right;\">\n",
       "      <th></th>\n",
       "      <th>id</th>\n",
       "      <th>tid1</th>\n",
       "      <th>tid2</th>\n",
       "      <th>title1_zh</th>\n",
       "      <th>title2_zh</th>\n",
       "      <th>title1_en</th>\n",
       "      <th>title2_en</th>\n",
       "      <th>label</th>\n",
       "    </tr>\n",
       "  </thead>\n",
       "  <tbody>\n",
       "    <tr>\n",
       "      <th>0</th>\n",
       "      <td>0</td>\n",
       "      <td>0</td>\n",
       "      <td>1</td>\n",
       "      <td>2017养老保险又新增两项，农村老人人人可申领，你领到了吗</td>\n",
       "      <td>警方辟谣“鸟巢大会每人领5万” 仍有老人坚持进京</td>\n",
       "      <td>There are two new old-age insurance benefits f...</td>\n",
       "      <td>Police disprove \"bird's nest congress each per...</td>\n",
       "      <td>unrelated</td>\n",
       "    </tr>\n",
       "  </tbody>\n",
       "</table>\n",
       "</div>"
      ],
      "text/plain": [
       "   id  tid1  tid2                       title1_zh                 title2_zh  \\\n",
       "0   0     0     1   2017养老保险又新增两项，农村老人人人可申领，你领到了吗  警方辟谣“鸟巢大会每人领5万” 仍有老人坚持进京   \n",
       "\n",
       "                                           title1_en  \\\n",
       "0  There are two new old-age insurance benefits f...   \n",
       "\n",
       "                                           title2_en      label  \n",
       "0  Police disprove \"bird's nest congress each per...  unrelated  "
      ]
     },
     "execution_count": 3,
     "metadata": {},
     "output_type": "execute_result"
    }
   ],
   "source": [
    "data.head(1)    "
   ]
  },
  {
   "cell_type": "code",
   "execution_count": 4,
   "metadata": {},
   "outputs": [],
   "source": [
    "exist = set()\n",
    "mapping = {}\n",
    "strange = set()"
   ]
  },
  {
   "cell_type": "code",
   "execution_count": 5,
   "metadata": {},
   "outputs": [],
   "source": [
    "tid1s = data['tid1'].tolist()\n",
    "tid2s = data['tid2'].tolist()\n",
    "title1_zhs = data['title1_zh'].tolist()\n",
    "title2_zhs = data['title2_zh'].tolist()\n",
    "title1_ens = data['title1_en'].tolist()\n",
    "title2_ens = data['title2_en'].tolist()\n",
    "labels = data['label'].tolist()"
   ]
  },
  {
   "cell_type": "code",
   "execution_count": 6,
   "metadata": {},
   "outputs": [],
   "source": [
    "def check(id1):\n",
    "    for i in range(len(data_sets)):\n",
    "        if(id1 in data_sets[i]):\n",
    "            return i\n",
    "    return -1"
   ]
  },
  {
   "cell_type": "code",
   "execution_count": 7,
   "metadata": {},
   "outputs": [],
   "source": [
    "class graph:\n",
    "    def __init__(self):\n",
    "        self.data = {}\n",
    "        self.dis_path = {}\n",
    "        self.un = {}\n",
    "        \n",
    "    def add_link(self,a,b):\n",
    "        def add(a,b):\n",
    "            try:\n",
    "                self.data[a].append(b)\n",
    "            except:\n",
    "                self.data[a] = [b]\n",
    "        add(a,b)\n",
    "        add(b,a)\n",
    "    \n",
    "    def add_dis(self,a,b):\n",
    "        def dis(a,b):\n",
    "            if(b not in self.path):\n",
    "                self.path[b] = [b]        \n",
    "            if(a in self.path[b]):\n",
    "                strange.add((a,b))\n",
    "                return True\n",
    "            try:\n",
    "                self.dis_path[a].extend(self.path[b])\n",
    "            except KeyError as e:\n",
    "                self.dis_path[a] = self.path[b]\n",
    "            return False\n",
    "        \n",
    "        if(dis(a,b)):\n",
    "            return \n",
    "        dis(b,a)\n",
    "            \n",
    "    def dfs_all(self):\n",
    "        def dfs(a,check):\n",
    "            ans = [a]\n",
    "            check.add(a)\n",
    "            for p in self.data[a]:\n",
    "                if(p not in check):\n",
    "                    ans.extend(dfs(p,check))\n",
    "            return ans\n",
    "            \n",
    "            \n",
    "        self.path = {}\n",
    "        \n",
    "        for root in self.data:\n",
    "            temp = dfs(root,set())\n",
    "            \n",
    "            self.path[root] = temp\n",
    "            \n",
    "    def add_un(self,a,b):\n",
    "        def un(a,b):\n",
    "            \n",
    "            if((b in self.path and a in self.path[b]) or (b in self.dis_path and a in self.dis_path[b])):\n",
    "                strange.add((a,b))\n",
    "                return True\n",
    "            \n",
    "            try:\n",
    "                self.un[a].append(b)\n",
    "            except:\n",
    "                self.un[a] = [b]\n",
    "            return False\n",
    "        \n",
    "        if(un(a,b)):\n",
    "            return \n",
    "        un(b,a)\n",
    "        \n",
    "            "
   ]
  },
  {
   "cell_type": "code",
   "execution_count": 8,
   "metadata": {},
   "outputs": [],
   "source": [
    "g = graph()\n",
    "#first build up the disjoint set\n",
    "count = 0\n",
    "for tid1,tid2,title1_zh,title2_zh,title1_en,title2_en,label in zip(tid1s,tid2s,title1_zhs,title2_zhs,title1_ens,title2_ens,labels):\n",
    "    if(tid1 not in exist):\n",
    "        exist.add(tid1)\n",
    "        mapping[tid1] = [title1_zhs,title1_ens]\n",
    "    if(tid2 not in exist):\n",
    "        exist.add(tid2)\n",
    "        mapping[tid2] = [title2_zhs,title2_ens]\n",
    "    \n",
    "    if(tid2==42543 or tid1==42543):\n",
    "        continue\n",
    "    if(tid1==108313 and tid1==108312):\n",
    "        continue\n",
    "        \n",
    "    if(label=='agreed'):\n",
    "        count += 1\n",
    "        g.add_link(tid1,tid2)\n",
    "g.dfs_all()"
   ]
  },
  {
   "cell_type": "code",
   "execution_count": 9,
   "metadata": {},
   "outputs": [
    {
     "data": {
      "text/plain": [
       "(59018, 92966, 413301)"
      ]
     },
     "execution_count": 9,
     "metadata": {},
     "output_type": "execute_result"
    }
   ],
   "source": [
    "after_count = 0\n",
    "for key in g.path:\n",
    "    after_count += len(g.path[key])-1\n",
    "    \n",
    "len(g.path),count,after_count//2"
   ]
  },
  {
   "cell_type": "code",
   "execution_count": 10,
   "metadata": {},
   "outputs": [],
   "source": [
    "count = 0\n",
    "for tid1,tid2,title1_zh,title2_zh,title1_en,title2_en,label in zip(tid1s,tid2s,title1_zhs,title2_zhs,title1_ens,title2_ens,labels):\n",
    "    if(label=='disagreed'):\n",
    "        if(tid1 == tid2):\n",
    "            continue\n",
    "        count += 1\n",
    "        g.add_dis(tid1,tid2)\n"
   ]
  },
  {
   "cell_type": "code",
   "execution_count": 11,
   "metadata": {},
   "outputs": [
    {
     "data": {
      "text/plain": [
       "(8414, 8256, 166692)"
      ]
     },
     "execution_count": 11,
     "metadata": {},
     "output_type": "execute_result"
    }
   ],
   "source": [
    "after_count = 0\n",
    "for key in g.dis_path:\n",
    "    after_count += len(g.dis_path[key])\n",
    "    \n",
    "len(g.dis_path),count,after_count//2"
   ]
  },
  {
   "cell_type": "code",
   "execution_count": 12,
   "metadata": {},
   "outputs": [
    {
     "name": "stdout",
     "output_type": "stream",
     "text": [
      "{'unrelated': 96, 'agreed': 4, 'disagreed': 10}\n"
     ]
    }
   ],
   "source": [
    "count = {'unrelated':0,'agreed':0,'disagreed':0}\n",
    "for tid1,tid2,title1_zh,title2_zh,title1_en,title2_en,label in zip(tid1s,tid2s,title1_zhs,title2_zhs,title1_ens,title2_ens,labels):\n",
    "    if(tid1 == tid2):\n",
    "        count[label] += 1\n",
    "print(count)"
   ]
  },
  {
   "cell_type": "code",
   "execution_count": 13,
   "metadata": {},
   "outputs": [],
   "source": [
    "count = 0\n",
    "for tid1,tid2,title1_zh,title2_zh,title1_en,title2_en,label in zip(tid1s,tid2s,title1_zhs,title2_zhs,title1_ens,title2_ens,labels):\n",
    "    if(label=='unrelated'):\n",
    "        if(tid1 == tid2):\n",
    "            continue\n",
    "        count += 1\n",
    "        g.add_un(tid1,tid2)"
   ]
  },
  {
   "cell_type": "code",
   "execution_count": 14,
   "metadata": {},
   "outputs": [
    {
     "data": {
      "text/plain": [
       "(137925, 219217, 135845)"
      ]
     },
     "execution_count": 14,
     "metadata": {},
     "output_type": "execute_result"
    }
   ],
   "source": [
    "after_count = 0\n",
    "for key in g.un:\n",
    "    after_count += len(g.un[key])-1\n",
    "    \n",
    "len(g.un),count,after_count//2"
   ]
  },
  {
   "cell_type": "code",
   "execution_count": 15,
   "metadata": {},
   "outputs": [],
   "source": [
    "data = []\n",
    "for key in g.path:\n",
    "    for p in g.path[key][1:]:\n",
    "        if(key>p):\n",
    "            data.append((key,p,'agreed'))\n",
    "for key in g.dis_path:\n",
    "    for p in g.dis_path[key]:\n",
    "        if(key>p):\n",
    "            data.append((key,p,'disagreed'))\n",
    "for key in g.un:\n",
    "    for p in g.un[key]:\n",
    "        if(key>p):\n",
    "            data.append((key,p,'unrelated'))"
   ]
  },
  {
   "cell_type": "code",
   "execution_count": 16,
   "metadata": {},
   "outputs": [],
   "source": [
    "from sklearn.model_selection import train_test_split\n",
    "\n",
    "train, test = train_test_split(data, test_size=0.2)"
   ]
  },
  {
   "cell_type": "code",
   "execution_count": null,
   "metadata": {},
   "outputs": [],
   "source": [
    "ids = []\n",
    "tid1s = []\n",
    "tid2s = []\n",
    "title1_zhs = []\n",
    "title2_zhs = []\n",
    "title1_ens = []\n",
    "title2_ens = []\n",
    "labels = []\n",
    "for i,d in enumerate(train):\n",
    "    ids.append(i)\n",
    "    tid1s.append(d[0])\n",
    "    tid2s.append(d[1])\n",
    "    title1_zhs.append(mapping[d[0]][0])\n",
    "    title2_zhs.append(mapping[d[1]][0])\n",
    "    title1_ens.append(mapping[d[0]][1])\n",
    "    title2_ens.append(mapping[d[1]][1])\n",
    "    labels.append(d[-1])\n",
    "    \n",
    "pd.DataFrame({'id':ids,\n",
    "           'tid1':tid1s,\n",
    "           'tid2':tid2s,\n",
    "           'title1_zh':title1_zhs,\n",
    "           'title2_zh':title2_zhs,\n",
    "           'title1_en':title1_ens,\n",
    "           'title2_en':title2_ens,\n",
    "           'label':labels\n",
    "          }).to_csv('local_train.csv')"
   ]
  },
  {
   "cell_type": "code",
   "execution_count": 20,
   "metadata": {},
   "outputs": [
    {
     "ename": "OSError",
     "evalue": "[Errno 28] No space left on device",
     "output_type": "error",
     "traceback": [
      "\u001b[0;31m---------------------------------------------------------------------------\u001b[0m",
      "\u001b[0;31mOSError\u001b[0m                                   Traceback (most recent call last)",
      "\u001b[0;32m<ipython-input-20-fbdbd54bf4eb>\u001b[0m in \u001b[0;36m<module>\u001b[0;34m\u001b[0m\n\u001b[1;32m     25\u001b[0m            \u001b[0;34m'title2_en'\u001b[0m\u001b[0;34m:\u001b[0m\u001b[0mtitle2_ens\u001b[0m\u001b[0;34m,\u001b[0m\u001b[0;34m\u001b[0m\u001b[0;34m\u001b[0m\u001b[0m\n\u001b[1;32m     26\u001b[0m            \u001b[0;34m'label'\u001b[0m\u001b[0;34m:\u001b[0m\u001b[0mlabels\u001b[0m\u001b[0;34m\u001b[0m\u001b[0;34m\u001b[0m\u001b[0m\n\u001b[0;32m---> 27\u001b[0;31m           }).to_csv('local_test.csv')\n\u001b[0m",
      "\u001b[0;32m~/anaconda3/envs/pytorch/lib/python3.6/site-packages/pandas/core/frame.py\u001b[0m in \u001b[0;36mto_csv\u001b[0;34m(self, path_or_buf, sep, na_rep, float_format, columns, header, index, index_label, mode, encoding, compression, quoting, quotechar, line_terminator, chunksize, tupleize_cols, date_format, doublequote, escapechar, decimal)\u001b[0m\n\u001b[1;32m   1743\u001b[0m                                  \u001b[0mdoublequote\u001b[0m\u001b[0;34m=\u001b[0m\u001b[0mdoublequote\u001b[0m\u001b[0;34m,\u001b[0m\u001b[0;34m\u001b[0m\u001b[0;34m\u001b[0m\u001b[0m\n\u001b[1;32m   1744\u001b[0m                                  escapechar=escapechar, decimal=decimal)\n\u001b[0;32m-> 1745\u001b[0;31m         \u001b[0mformatter\u001b[0m\u001b[0;34m.\u001b[0m\u001b[0msave\u001b[0m\u001b[0;34m(\u001b[0m\u001b[0;34m)\u001b[0m\u001b[0;34m\u001b[0m\u001b[0;34m\u001b[0m\u001b[0m\n\u001b[0m\u001b[1;32m   1746\u001b[0m \u001b[0;34m\u001b[0m\u001b[0m\n\u001b[1;32m   1747\u001b[0m         \u001b[0;32mif\u001b[0m \u001b[0mpath_or_buf\u001b[0m \u001b[0;32mis\u001b[0m \u001b[0;32mNone\u001b[0m\u001b[0;34m:\u001b[0m\u001b[0;34m\u001b[0m\u001b[0;34m\u001b[0m\u001b[0m\n",
      "\u001b[0;32m~/anaconda3/envs/pytorch/lib/python3.6/site-packages/pandas/io/formats/csvs.py\u001b[0m in \u001b[0;36msave\u001b[0;34m(self)\u001b[0m\n\u001b[1;32m    169\u001b[0m                 \u001b[0mself\u001b[0m\u001b[0;34m.\u001b[0m\u001b[0mwriter\u001b[0m \u001b[0;34m=\u001b[0m \u001b[0mUnicodeWriter\u001b[0m\u001b[0;34m(\u001b[0m\u001b[0mf\u001b[0m\u001b[0;34m,\u001b[0m \u001b[0;34m**\u001b[0m\u001b[0mwriter_kwargs\u001b[0m\u001b[0;34m)\u001b[0m\u001b[0;34m\u001b[0m\u001b[0;34m\u001b[0m\u001b[0m\n\u001b[1;32m    170\u001b[0m \u001b[0;34m\u001b[0m\u001b[0m\n\u001b[0;32m--> 171\u001b[0;31m             \u001b[0mself\u001b[0m\u001b[0;34m.\u001b[0m\u001b[0m_save\u001b[0m\u001b[0;34m(\u001b[0m\u001b[0;34m)\u001b[0m\u001b[0;34m\u001b[0m\u001b[0;34m\u001b[0m\u001b[0m\n\u001b[0m\u001b[1;32m    172\u001b[0m \u001b[0;34m\u001b[0m\u001b[0m\n\u001b[1;32m    173\u001b[0m         \u001b[0;32mfinally\u001b[0m\u001b[0;34m:\u001b[0m\u001b[0;34m\u001b[0m\u001b[0;34m\u001b[0m\u001b[0m\n",
      "\u001b[0;32m~/anaconda3/envs/pytorch/lib/python3.6/site-packages/pandas/io/formats/csvs.py\u001b[0m in \u001b[0;36m_save\u001b[0;34m(self)\u001b[0m\n\u001b[1;32m    284\u001b[0m                 \u001b[0;32mbreak\u001b[0m\u001b[0;34m\u001b[0m\u001b[0;34m\u001b[0m\u001b[0m\n\u001b[1;32m    285\u001b[0m \u001b[0;34m\u001b[0m\u001b[0m\n\u001b[0;32m--> 286\u001b[0;31m             \u001b[0mself\u001b[0m\u001b[0;34m.\u001b[0m\u001b[0m_save_chunk\u001b[0m\u001b[0;34m(\u001b[0m\u001b[0mstart_i\u001b[0m\u001b[0;34m,\u001b[0m \u001b[0mend_i\u001b[0m\u001b[0;34m)\u001b[0m\u001b[0;34m\u001b[0m\u001b[0;34m\u001b[0m\u001b[0m\n\u001b[0m\u001b[1;32m    287\u001b[0m \u001b[0;34m\u001b[0m\u001b[0m\n\u001b[1;32m    288\u001b[0m     \u001b[0;32mdef\u001b[0m \u001b[0m_save_chunk\u001b[0m\u001b[0;34m(\u001b[0m\u001b[0mself\u001b[0m\u001b[0;34m,\u001b[0m \u001b[0mstart_i\u001b[0m\u001b[0;34m,\u001b[0m \u001b[0mend_i\u001b[0m\u001b[0;34m)\u001b[0m\u001b[0;34m:\u001b[0m\u001b[0;34m\u001b[0m\u001b[0;34m\u001b[0m\u001b[0m\n",
      "\u001b[0;32m~/anaconda3/envs/pytorch/lib/python3.6/site-packages/pandas/io/formats/csvs.py\u001b[0m in \u001b[0;36m_save_chunk\u001b[0;34m(self, start_i, end_i)\u001b[0m\n\u001b[1;32m    311\u001b[0m \u001b[0;34m\u001b[0m\u001b[0m\n\u001b[1;32m    312\u001b[0m         libwriters.write_csv_rows(self.data, ix, self.nlevels,\n\u001b[0;32m--> 313\u001b[0;31m                                   self.cols, self.writer)\n\u001b[0m",
      "\u001b[0;32mpandas/_libs/writers.pyx\u001b[0m in \u001b[0;36mpandas._libs.writers.write_csv_rows\u001b[0;34m()\u001b[0m\n",
      "\u001b[0;31mOSError\u001b[0m: [Errno 28] No space left on device"
     ]
    }
   ],
   "source": [
    "ids = []\n",
    "tid1s = []\n",
    "tid2s = []\n",
    "title1_zhs = []\n",
    "title2_zhs = []\n",
    "title1_ens = []\n",
    "title2_ens = []\n",
    "labels = []\n",
    "for i,d in enumerate(test):\n",
    "    ids.append(i)\n",
    "    tid1s.append(d[0])\n",
    "    tid2s.append(d[1])\n",
    "    title1_zhs.append(mapping[d[0]][0])\n",
    "    title2_zhs.append(mapping[d[1]][0])\n",
    "    title1_ens.append(mapping[d[0]][1])\n",
    "    title2_ens.append(mapping[d[1]][1])\n",
    "    labels.append(d[-1])\n",
    "    \n",
    "pd.DataFrame({'id':ids,\n",
    "           'tid1':tid1s,\n",
    "           'tid2':tid2s,\n",
    "           'title1_zh':title1_zhs,\n",
    "           'title2_zh':title2_zhs,\n",
    "           'title1_en':title1_ens,\n",
    "           'title2_en':title2_ens,\n",
    "           'label':labels\n",
    "          }).to_csv('local_test.csv')"
   ]
  },
  {
   "cell_type": "code",
   "execution_count": null,
   "metadata": {},
   "outputs": [],
   "source": []
  }
 ],
 "metadata": {
  "kernelspec": {
   "display_name": "Python 3",
   "language": "python",
   "name": "python3"
  },
  "language_info": {
   "codemirror_mode": {
    "name": "ipython",
    "version": 3
   },
   "file_extension": ".py",
   "mimetype": "text/x-python",
   "name": "python",
   "nbconvert_exporter": "python",
   "pygments_lexer": "ipython3",
   "version": "3.6.7"
  }
 },
 "nbformat": 4,
 "nbformat_minor": 2
}
