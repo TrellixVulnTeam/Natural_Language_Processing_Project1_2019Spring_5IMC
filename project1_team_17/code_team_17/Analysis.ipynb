{
 "cells": [
  {
   "cell_type": "code",
   "execution_count": null,
   "metadata": {},
   "outputs": [],
   "source": [
    "import pandas as pd\n",
    "from collections import Counter\n",
    "import jieba\n",
    "from tqdm import tqdm\n",
    "from sklearn import feature_extraction\n",
    "from sklearn.feature_extraction.text import TfidfVectorizer"
   ]
  },
  {
   "cell_type": "code",
   "execution_count": null,
   "metadata": {},
   "outputs": [],
   "source": [
    "df_train = pd.read_csv( \"./train.csv\" )\n",
    "df_test = pd.read_csv( \"./test.csv\" )"
   ]
  },
  {
   "cell_type": "code",
   "execution_count": null,
   "metadata": {},
   "outputs": [],
   "source": [
    "df_train.shape"
   ]
  },
  {
   "cell_type": "code",
   "execution_count": null,
   "metadata": {},
   "outputs": [],
   "source": [
    "df_test.shape"
   ]
  },
  {
   "cell_type": "code",
   "execution_count": null,
   "metadata": {},
   "outputs": [],
   "source": [
    "df_train.head()"
   ]
  },
  {
   "cell_type": "code",
   "execution_count": null,
   "metadata": {},
   "outputs": [],
   "source": [
    "lst_tid1 = df_train['tid1'].tolist()\n",
    "print( sorted(Counter( lst_tid1 ).items(), key=lambda x: x[1])[-1] )\n",
    "# df_train.loc[ df_train['id'] == 113886, : ]\n",
    "lst_tid1 = [ w[1] for w in Counter( lst_tid1 ).items() ]"
   ]
  },
  {
   "cell_type": "code",
   "execution_count": null,
   "metadata": {},
   "outputs": [],
   "source": [
    "df_train.loc[ df_train['tid1'] == 113886, \"title1_zh\" ]"
   ]
  },
  {
   "cell_type": "code",
   "execution_count": null,
   "metadata": {},
   "outputs": [],
   "source": [
    "import plotly.plotly as py\n",
    "import plotly.graph_objs as go\n",
    "\n",
    "fig = dict(\n",
    "    data = [go.Histogram(x=lst_tid1)],\n",
    "    layout = dict(  title=\"Distribution of frequencies of tid1\", \n",
    "                    xaxis=dict( \n",
    "                        title=\"Frequency of tid1\"\n",
    "                    ),\n",
    "                    yaxis=dict( \n",
    "                        title=\"Count\"\n",
    "                    )\n",
    "                 )\n",
    ")\n",
    "\n",
    "py.iplot(fig, filename='basic histogram')"
   ]
  },
  {
   "cell_type": "code",
   "execution_count": null,
   "metadata": {},
   "outputs": [],
   "source": [
    "lst_tid2 = df_train['tid2'].tolist()\n",
    "print( sorted(Counter( lst_tid2 ).items(), key=lambda x: x[1])[-1] )\n",
    "lst_tid2 = [ w[1] for w in Counter( lst_tid2 ).items() ]"
   ]
  },
  {
   "cell_type": "code",
   "execution_count": null,
   "metadata": {},
   "outputs": [],
   "source": [
    "df_train.loc[ df_train['tid2'] == 4160, \"title2_zh\" ]"
   ]
  },
  {
   "cell_type": "code",
   "execution_count": null,
   "metadata": {},
   "outputs": [],
   "source": [
    "fig = dict(\n",
    "    data = [go.Histogram(x=lst_tid2)],\n",
    "    layout = dict(  title=\"Distribution of frequencies of tid2\", \n",
    "                    xaxis=dict( \n",
    "                        title=\"Frequency of tid2\"\n",
    "                    ),\n",
    "                    yaxis=dict( \n",
    "                        title=\"Count\"\n",
    "                    )\n",
    "                 )\n",
    ")\n",
    "\n",
    "py.iplot(fig, filename='basic histogram')"
   ]
  },
  {
   "cell_type": "code",
   "execution_count": null,
   "metadata": {},
   "outputs": [],
   "source": [
    "df_same = df_train.loc[ df_train['tid1'] == df_train['tid2'], : ]"
   ]
  },
  {
   "cell_type": "code",
   "execution_count": null,
   "metadata": {},
   "outputs": [],
   "source": [
    "df_same.shape"
   ]
  },
  {
   "cell_type": "code",
   "execution_count": null,
   "metadata": {},
   "outputs": [],
   "source": [
    "c_label = dict(Counter(df_same['label'].tolist()))"
   ]
  },
  {
   "cell_type": "code",
   "execution_count": null,
   "metadata": {},
   "outputs": [],
   "source": [
    "df_same.head()"
   ]
  },
  {
   "cell_type": "code",
   "execution_count": null,
   "metadata": {},
   "outputs": [],
   "source": [
    "labels = [ w[0] for w in c_label.items() ]\n",
    "values = [ w[1] for w in c_label.items() ]\n",
    "\n",
    "fig = dict(\n",
    "    data = [go.Pie(labels=labels, values=values, textinfo=\"label+percent\")],\n",
    "    layout = dict( title=\"label distribution of twin pairs\" )\n",
    ")\n",
    "py.iplot(fig, filename='basic_pie_chart')"
   ]
  },
  {
   "cell_type": "code",
   "execution_count": null,
   "metadata": {},
   "outputs": [],
   "source": [
    "c_label = dict(Counter(df_train['label'].tolist()))\n",
    "\n",
    "labels = [ w[0] for w in c_label.items() ]\n",
    "values = [ w[1] for w in c_label.items() ]\n",
    "\n",
    "fig = dict(\n",
    "    data = [go.Pie(labels=labels, values=values, textinfo=\"label+percent\")],\n",
    "    layout = dict( title=\"distribution of labels\" )\n",
    ")\n",
    "py.iplot(fig, filename='basic_pie_chart')"
   ]
  },
  {
   "cell_type": "code",
   "execution_count": null,
   "metadata": {},
   "outputs": [],
   "source": [
    "c_label = dict(Counter(df_train['label'].tolist()))\n",
    "\n",
    "labels = [ w[0] for w in c_label.items() ]\n",
    "values = [ w[1] for w in c_label.items() ]"
   ]
  },
  {
   "cell_type": "code",
   "execution_count": null,
   "metadata": {},
   "outputs": [],
   "source": [
    "labels"
   ]
  },
  {
   "cell_type": "code",
   "execution_count": null,
   "metadata": {},
   "outputs": [],
   "source": [
    "values"
   ]
  },
  {
   "cell_type": "code",
   "execution_count": null,
   "metadata": {},
   "outputs": [],
   "source": [
    "values[0] *= (1/16)\n",
    "values[1] *= (1/15)\n",
    "values[2] *= (1/5)"
   ]
  },
  {
   "cell_type": "code",
   "execution_count": null,
   "metadata": {},
   "outputs": [],
   "source": [
    "values"
   ]
  },
  {
   "cell_type": "code",
   "execution_count": null,
   "metadata": {},
   "outputs": [],
   "source": [
    "fig = dict(\n",
    "    data = [go.Pie(labels=labels, values=values, textinfo=\"label+percent\")],\n",
    "    layout = dict( title=\"Weighted distribution of labels\" )\n",
    ")\n",
    "py.iplot(fig, filename='basic_pie_chart')"
   ]
  },
  {
   "cell_type": "code",
   "execution_count": null,
   "metadata": {},
   "outputs": [],
   "source": [
    "df_train.loc[ df_train['label'] == \"disagreed\", : ]"
   ]
  },
  {
   "cell_type": "code",
   "execution_count": null,
   "metadata": {},
   "outputs": [],
   "source": [
    "df_test.loc[0, :]"
   ]
  },
  {
   "cell_type": "code",
   "execution_count": null,
   "metadata": {},
   "outputs": [],
   "source": [
    "df_submit = pd.read_csv(\"./sample_submission.csv\")"
   ]
  },
  {
   "cell_type": "code",
   "execution_count": null,
   "metadata": {},
   "outputs": [],
   "source": [
    "df_submit.head()"
   ]
  },
  {
   "cell_type": "code",
   "execution_count": null,
   "metadata": {},
   "outputs": [],
   "source": [
    "df_submit = pd.DataFrame( columns=['Id', 'Category'] )"
   ]
  },
  {
   "cell_type": "code",
   "execution_count": null,
   "metadata": {},
   "outputs": [],
   "source": [
    "df_submit"
   ]
  },
  {
   "cell_type": "code",
   "execution_count": null,
   "metadata": {},
   "outputs": [],
   "source": []
  }
 ],
 "metadata": {
  "kernelspec": {
   "display_name": "Python 3",
   "language": "python",
   "name": "python3"
  },
  "language_info": {
   "codemirror_mode": {
    "name": "ipython",
    "version": 3
   },
   "file_extension": ".py",
   "mimetype": "text/x-python",
   "name": "python",
   "nbconvert_exporter": "python",
   "pygments_lexer": "ipython3",
   "version": "3.7.0"
  }
 },
 "nbformat": 4,
 "nbformat_minor": 2
}
