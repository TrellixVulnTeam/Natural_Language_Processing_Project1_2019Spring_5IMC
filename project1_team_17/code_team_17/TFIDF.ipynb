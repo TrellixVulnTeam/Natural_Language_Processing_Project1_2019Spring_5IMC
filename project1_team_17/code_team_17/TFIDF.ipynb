{
 "cells": [
  {
   "cell_type": "code",
   "execution_count": null,
   "metadata": {},
   "outputs": [],
   "source": [
    "import pandas as pd\n",
    "from collections import Counter\n",
    "import jieba\n",
    "from tqdm import tqdm\n",
    "from sklearn import feature_extraction\n",
    "from sklearn.feature_extraction.text import TfidfVectorizer"
   ]
  },
  {
   "cell_type": "code",
   "execution_count": null,
   "metadata": {},
   "outputs": [],
   "source": [
    "df_submit = pd.read_csv(\"./sample_submission.csv\")\n",
    "df_submit.head()"
   ]
  },
  {
   "cell_type": "code",
   "execution_count": null,
   "metadata": {},
   "outputs": [],
   "source": [
    "df_train = pd.read_csv( \"./train.csv\" )"
   ]
  },
  {
   "cell_type": "code",
   "execution_count": null,
   "metadata": {},
   "outputs": [],
   "source": [
    "df_train.shape"
   ]
  },
  {
   "cell_type": "code",
   "execution_count": null,
   "metadata": {},
   "outputs": [],
   "source": [
    "df_train.loc[0, :]"
   ]
  },
  {
   "cell_type": "code",
   "execution_count": null,
   "metadata": {},
   "outputs": [],
   "source": [
    "Counter( df_train[ \"label\" ] )"
   ]
  },
  {
   "cell_type": "code",
   "execution_count": null,
   "metadata": {},
   "outputs": [],
   "source": [
    "df_test = pd.read_csv( \"./test.csv\" )\n",
    "df_test.shape"
   ]
  },
  {
   "cell_type": "code",
   "execution_count": null,
   "metadata": {},
   "outputs": [],
   "source": [
    "df_test.loc[0, :]"
   ]
  },
  {
   "cell_type": "code",
   "execution_count": null,
   "metadata": {},
   "outputs": [],
   "source": [
    "df_train.loc[ 0, \"title1_zh\" ].replace(\" \", \"\")"
   ]
  },
  {
   "cell_type": "code",
   "execution_count": null,
   "metadata": {},
   "outputs": [],
   "source": [
    "\" \".join(jieba.cut(df_train.loc[ 0, \"title1_zh\" ], cut_all=False))"
   ]
  },
  {
   "cell_type": "code",
   "execution_count": null,
   "metadata": {},
   "outputs": [],
   "source": [
    "# df_train = df_train.loc[:2999, :]\n",
    "# df_test = df_test.loc[:99, :]"
   ]
  },
  {
   "cell_type": "code",
   "execution_count": null,
   "metadata": {},
   "outputs": [],
   "source": [
    "df_train = df_train[ [ \"id\", \"title1_zh\", \"title2_zh\", \"label\" ] ]\n",
    "df_test = df_test[ [ \"id\", \"title1_zh\", \"title2_zh\" ] ]"
   ]
  },
  {
   "cell_type": "code",
   "execution_count": null,
   "metadata": {},
   "outputs": [],
   "source": [
    "df_train = df_train.fillna(\"NaN\")\n",
    "df_test = df_test.fillna(\"NaN\")"
   ]
  },
  {
   "cell_type": "code",
   "execution_count": null,
   "metadata": {},
   "outputs": [],
   "source": [
    "df_train[\"title1_zh\"] = df_train[\"title1_zh\"].map(lambda x: \" \".join(jieba.cut(x, cut_all=False)))\n",
    "df_train[\"title2_zh\"] = df_train[\"title2_zh\"].map(lambda x: \" \".join(jieba.cut(x, cut_all=False)))\n",
    "df_test[\"title1_zh\"]  =  df_test[\"title1_zh\"].map(lambda x: \" \".join(jieba.cut(x, cut_all=False)))\n",
    "df_test[\"title2_zh\"]  =  df_test[\"title2_zh\"].map(lambda x: \" \".join(jieba.cut(x, cut_all=False)))"
   ]
  },
  {
   "cell_type": "code",
   "execution_count": null,
   "metadata": {},
   "outputs": [],
   "source": [
    "corpus = df_train[\"title1_zh\"].tolist() + df_train[\"title2_zh\"].tolist()\\\n",
    "        + df_test[\"title1_zh\"].tolist() + df_test[\"title2_zh\"].tolist()"
   ]
  },
  {
   "cell_type": "code",
   "execution_count": null,
   "metadata": {},
   "outputs": [],
   "source": [
    "vectorizer = TfidfVectorizer().fit(corpus)\n",
    "# tfidf = vectorizer.transform(corpus)"
   ]
  },
  {
   "cell_type": "code",
   "execution_count": null,
   "metadata": {},
   "outputs": [],
   "source": [
    "df_train[\"title1_zh\"] = df_train[\"title1_zh\"].map(lambda x: vectorizer.transform([x])[0])\n",
    "df_train[\"title2_zh\"] = df_train[\"title2_zh\"].map(lambda x: vectorizer.transform([x])[0])\n",
    "df_test[\"title1_zh\"]  =  df_test[\"title1_zh\"].map(lambda x: vectorizer.transform([x])[0])\n",
    "df_test[\"title2_zh\"]  =  df_test[\"title2_zh\"].map(lambda x: vectorizer.transform([x])[0])"
   ]
  },
  {
   "cell_type": "code",
   "execution_count": null,
   "metadata": {},
   "outputs": [],
   "source": [
    "df_train.loc[0, 'title2_zh']"
   ]
  },
  {
   "cell_type": "code",
   "execution_count": null,
   "metadata": {},
   "outputs": [],
   "source": [
    "from sklearn.metrics.pairwise import linear_kernel"
   ]
  },
  {
   "cell_type": "code",
   "execution_count": null,
   "metadata": {},
   "outputs": [],
   "source": [
    "df_train.loc[ 15, : ]"
   ]
  },
  {
   "cell_type": "code",
   "execution_count": null,
   "metadata": {},
   "outputs": [],
   "source": [
    "linear_kernel( df_train.loc[15, \"title1_zh\"], df_train.loc[15, \"title2_zh\"] ).flatten()[0]"
   ]
  },
  {
   "cell_type": "code",
   "execution_count": null,
   "metadata": {},
   "outputs": [],
   "source": [
    "# df_train.apply( lambda x: linear_kernel( x[\"title1_zh\"], x[\"title2_zh\"] ).flatten()[0], axis=1 )\n",
    "df_train = df_train.reset_index(drop=True)\n",
    "df_test = df_test.reset_index(drop=True)"
   ]
  },
  {
   "cell_type": "code",
   "execution_count": null,
   "metadata": {},
   "outputs": [],
   "source": [
    "df_train['similarity'] = 0.0\n",
    "df_test['similarity'] = 0.0"
   ]
  },
  {
   "cell_type": "code",
   "execution_count": null,
   "metadata": {},
   "outputs": [],
   "source": [
    "pbar = tqdm(total=len(df_train))\n",
    "\n",
    "for idx, row in df_train.iterrows():\n",
    "    sim = linear_kernel( row[\"title1_zh\"], row[\"title2_zh\"] ).flatten()[0]\n",
    "    df_train.set_value(idx, \"similarity\", sim)\n",
    "    pbar.update(1)\n",
    "    "
   ]
  },
  {
   "cell_type": "code",
   "execution_count": null,
   "metadata": {},
   "outputs": [],
   "source": [
    "pbar = tqdm(total=len(df_test))\n",
    "\n",
    "for idx, row in df_test.iterrows():\n",
    "    sim = linear_kernel( row[\"title1_zh\"], row[\"title2_zh\"] ).flatten()[0]\n",
    "    df_test.set_value(idx, \"similarity\", sim)\n",
    "    pbar.update(1)\n",
    "    "
   ]
  },
  {
   "cell_type": "code",
   "execution_count": null,
   "metadata": {},
   "outputs": [],
   "source": []
  },
  {
   "cell_type": "code",
   "execution_count": null,
   "metadata": {},
   "outputs": [],
   "source": [
    "df_train.loc[ df_train['label'] == \"agreed\", : ][\"similarity\"].describe()"
   ]
  },
  {
   "cell_type": "code",
   "execution_count": null,
   "metadata": {},
   "outputs": [],
   "source": [
    "df_train.loc[ df_train['label'] == \"disagreed\", : ][\"similarity\"].describe()"
   ]
  },
  {
   "cell_type": "code",
   "execution_count": null,
   "metadata": {},
   "outputs": [],
   "source": [
    "df_train.loc[ df_train['label'] == \"unrelated\", : ][\"similarity\"].describe()"
   ]
  },
  {
   "cell_type": "code",
   "execution_count": null,
   "metadata": {},
   "outputs": [],
   "source": [
    "import plotly.plotly as py\n",
    "import plotly.graph_objs as go\n",
    "import numpy as np\n",
    "\n",
    "x1 = df_train.loc[ df_train['label'] == \"disagreed\", : ][\"similarity\"].tolist()\n",
    "x2 = df_train.loc[ df_train['label'] == \"agreed\", : ][\"similarity\"].tolist()\n",
    "x3 = df_train.loc[ df_train['label'] == \"unrelated\", : ][\"similarity\"].tolist()\n",
    "\n",
    "trace = go.Histogram(x=x1, histnorm='probability',\n",
    "                     name=\"disagreed\",\n",
    "                     xbins=dict(start=np.min(x1),\n",
    "                                size=0.03,\n",
    "                                end=np.max(x1)))\n",
    "\n",
    "trace1 = go.Histogram(x=x2, histnorm='probability',\n",
    "                     name=\"agreed\",\n",
    "                     xbins=dict(start=np.min(x2),\n",
    "                                size=0.03,\n",
    "                                end=np.max(x2)))\n",
    "\n",
    "trace2 = go.Histogram(x=x3, histnorm='probability',\n",
    "                     name=\"unrelated\",\n",
    "                     xbins=dict(start=np.min(x3),\n",
    "                                size=0.03,\n",
    "                                end=np.max(x3)))\n",
    "\n",
    "layout = go.Layout(\n",
    "    title=\"Similarity Distribution\",\n",
    "    xaxis=dict( \n",
    "        title=\"Similarity\"\n",
    "    ),\n",
    "    yaxis=dict( \n",
    "        title=\"Ratio\"\n",
    "    )\n",
    ")\n",
    "\n",
    "fig = go.Figure(data=go.Data([trace, trace1, trace2]), layout=layout)\n",
    "py.iplot(fig, filename='histogram-prob-dist')"
   ]
  },
  {
   "cell_type": "code",
   "execution_count": null,
   "metadata": {},
   "outputs": [],
   "source": [
    "df_submit = pd.DataFrame( columns=['Id', 'Category'] )"
   ]
  },
  {
   "cell_type": "code",
   "execution_count": null,
   "metadata": {},
   "outputs": [],
   "source": [
    "df_test['id'].head()"
   ]
  },
  {
   "cell_type": "code",
   "execution_count": null,
   "metadata": {},
   "outputs": [],
   "source": [
    "df_test['Category'] = \"\""
   ]
  },
  {
   "cell_type": "code",
   "execution_count": null,
   "metadata": {},
   "outputs": [],
   "source": [
    "df_test_dup = pd.read_csv(\"./test.csv\")"
   ]
  },
  {
   "cell_type": "code",
   "execution_count": null,
   "metadata": {},
   "outputs": [],
   "source": [
    "df_test['title2'] = df_test_dup['title2_zh']"
   ]
  },
  {
   "cell_type": "code",
   "execution_count": null,
   "metadata": {},
   "outputs": [],
   "source": [
    "df_test.head()"
   ]
  },
  {
   "cell_type": "code",
   "execution_count": null,
   "metadata": {},
   "outputs": [],
   "source": [
    "pbar = tqdm(total=len(df_test))\n",
    "\n",
    "key_words = [\"辟谣\", \"网警\", \"谣言\", \"勿信\", \"传谣\", \"假的\"]\n",
    "\n",
    "for idx, row in df_test.iterrows():\n",
    "    lab = \"\"\n",
    "    if row['similarity'] >= 0.25:\n",
    "        count = 0\n",
    "        for word in key_words:\n",
    "            count += row['title2'].count( word )\n",
    "        if count > 0:\n",
    "            lab = \"disagreed\"\n",
    "        else:\n",
    "            lab = \"agreed\"\n",
    "    else:\n",
    "        lab = \"unrelated\"\n",
    "    \n",
    "    df_test.set_value(idx, \"Category\", lab)\n",
    "    pbar.update(1)\n",
    "    "
   ]
  },
  {
   "cell_type": "code",
   "execution_count": null,
   "metadata": {},
   "outputs": [],
   "source": [
    "from collections import Counter\n",
    "\n",
    "Counter( df_test['Category'] )"
   ]
  },
  {
   "cell_type": "code",
   "execution_count": null,
   "metadata": {},
   "outputs": [],
   "source": [
    "df_submit['Id'] = df_test['id']\n",
    "df_submit['Category'] = df_test['Category']"
   ]
  },
  {
   "cell_type": "code",
   "execution_count": null,
   "metadata": {},
   "outputs": [],
   "source": [
    "Counter(df_submit['Category'])"
   ]
  },
  {
   "cell_type": "code",
   "execution_count": null,
   "metadata": {},
   "outputs": [],
   "source": [
    "df_submit.to_csv(\"./submit.csv\", index=False)"
   ]
  },
  {
   "cell_type": "code",
   "execution_count": null,
   "metadata": {},
   "outputs": [],
   "source": []
  }
 ],
 "metadata": {
  "kernelspec": {
   "display_name": "Python 3",
   "language": "python",
   "name": "python3"
  },
  "language_info": {
   "codemirror_mode": {
    "name": "ipython",
    "version": 3
   },
   "file_extension": ".py",
   "mimetype": "text/x-python",
   "name": "python",
   "nbconvert_exporter": "python",
   "pygments_lexer": "ipython3",
   "version": "3.7.0"
  }
 },
 "nbformat": 4,
 "nbformat_minor": 2
}
